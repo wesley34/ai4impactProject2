{
 "cells": [
  {
   "cell_type": "code",
   "execution_count": 35,
   "metadata": {},
   "outputs": [],
   "source": [
    "import warnings\n",
    "import numpy as np\n",
    "import pandas as pd\n",
    "import matplotlib.pyplot as plt\n",
    "import keras\n",
    "from keras import optimizers\n",
    "from keras.utils import plot_model\n",
    "from keras.models import Sequential, Model\n",
    "from keras.layers.convolutional import Conv1D, MaxPooling1D\n",
    "from keras.layers import Dense, LSTM, RepeatVector, TimeDistributed, Flatten\n",
    "from sklearn.metrics import mean_squared_error\n",
    "\n",
    "from sklearn.preprocessing import StandardScaler # for normalization\n",
    "from sklearn.preprocessing import MinMaxScaler\n",
    "import urllib\n",
    "\n",
    "import datetime"
   ]
  },
  {
   "cell_type": "code",
   "execution_count": 36,
   "metadata": {},
   "outputs": [],
   "source": [
    "def round_to_hour(dt):\n",
    "    dt_start_of_hour = dt.replace(minute=0, second=0, microsecond=0)\n",
    "    dt_half_hour = dt.replace(minute=30, second=0, microsecond=0)\n",
    "\n",
    "    if dt >= dt_half_hour:\n",
    "        # round up\n",
    "        dt = dt_start_of_hour + datetime.timedelta(hours=1)\n",
    "    else:\n",
    "        # round down\n",
    "        dt = dt_start_of_hour\n",
    "\n",
    "    return dt"
   ]
  },
  {
   "cell_type": "code",
   "execution_count": 4,
   "metadata": {},
   "outputs": [],
   "source": [
    "def series_to_supervised(data, window=1, lag=1, dropnan=True):\n",
    "    cols, names = list(), list()\n",
    "    # Input sequence (t-n, ... t-1)\n",
    "    for i in range(window, 0, -1):\n",
    "        cols.append(data.shift(i))\n",
    "        names += [('%s(t-%d)' % (col, i)) for col in data.columns]\n",
    "    # Current timestep (t=0)\n",
    "    cols.append(data)\n",
    "    names += [('%s(t)' % (col)) for col in data.columns]\n",
    "    # Target timestep (t=lag)\n",
    "    cols.append(data.shift(-lag))\n",
    "    names += [('%s(t+%d)' % (col, lag)) for col in data.columns]\n",
    "    # Put it all together\n",
    "    agg = pd.concat(cols, axis=1)\n",
    "    agg.columns = names\n",
    "    # Drop rows with NaN values\n",
    "    if dropnan:\n",
    "        agg.dropna(inplace=True)\n",
    "    return agg"
   ]
  },
  {
   "cell_type": "code",
   "execution_count": 5,
   "metadata": {},
   "outputs": [],
   "source": [
    "data = pd.read_csv(\"combined_energy_data.csv\", low_memory=False)"
   ]
  },
  {
   "cell_type": "code",
   "execution_count": 6,
   "metadata": {},
   "outputs": [],
   "source": [
    "data = data.drop_duplicates(subset=['datetime'])"
   ]
  },
  {
   "cell_type": "code",
   "execution_count": 7,
   "metadata": {},
   "outputs": [],
   "source": [
    "data['datetime'] = data['datetime'].apply(lambda x: x.split(\"+\")[0])"
   ]
  },
  {
   "cell_type": "code",
   "execution_count": 8,
   "metadata": {},
   "outputs": [],
   "source": [
    "data['datetime'] = pd.to_datetime(data['datetime'])"
   ]
  },
  {
   "cell_type": "code",
   "execution_count": 9,
   "metadata": {},
   "outputs": [],
   "source": [
    "columns_use = ['datetime','Wind', 'guitrancourt_Speed(m/s)', 'guitrancourt_Direction (deg N)',\n",
    "       'lieusaint_Speed(m/s)', 'lieusaint_Direction (deg N)',\n",
    "       'lvs-pussay_Speed(m/s)', 'lvs-pussay_Direction (deg N)',\n",
    "       'parc-du-gatinais_Speed(m/s)', 'parc-du-gatinais_Direction (deg N)',\n",
    "       'arville_Speed(m/s)', 'arville_Direction (deg N)',\n",
    "       'boissy-la-riviere_Speed(m/s)', 'boissy-la-riviere_Direction (deg N)',\n",
    "       'angerville-1_Speed(m/s)', 'angerville-1_Direction (deg N)',\n",
    "       'angerville-2_Speed(m/s)', 'angerville-2_Direction (deg N)',\n",
    "       'guitrancourt-b_Speed(m/s)', 'guitrancourt-b_Direction (deg N)',\n",
    "       'lieusaint-b_Speed(m/s)', 'lieusaint-b_Direction (deg N)',\n",
    "       'lvs-pussay-b_Speed(m/s)', 'lvs-pussay-b_Direction (deg N)',\n",
    "       'parc-du-gatinais-b_Speed(m/s)', 'parc-du-gatinais-b_Direction (deg N)',\n",
    "       'arville-b_Speed(m/s)', 'arville-b_Direction (deg N)',\n",
    "       'boissy-la-riviere-b_Speed(m/s)',\n",
    "       'boissy-la-riviere-b_Direction (deg N)', 'angerville-1-b_Speed(m/s)',\n",
    "       'angerville-1-b_Direction (deg N)', 'angerville-2-b_Speed(m/s)',\n",
    "       'angerville-2-b_Direction (deg N)']"
   ]
  },
  {
   "cell_type": "code",
   "execution_count": 10,
   "metadata": {},
   "outputs": [],
   "source": [
    "data = data[columns_use].fillna(method='ffill')"
   ]
  },
  {
   "cell_type": "code",
   "execution_count": 11,
   "metadata": {},
   "outputs": [],
   "source": [
    "data.dropna(inplace=True)"
   ]
  },
  {
   "cell_type": "code",
   "execution_count": 12,
   "metadata": {},
   "outputs": [],
   "source": [
    "window = 29 \n",
    "lag_size = 18\n",
    "lag = lag_size"
   ]
  },
  {
   "cell_type": "code",
   "execution_count": 13,
   "metadata": {},
   "outputs": [],
   "source": [
    "series = series_to_supervised(data, window=window, lag=lag).reset_index(drop=True)"
   ]
  },
  {
   "cell_type": "code",
   "execution_count": 14,
   "metadata": {},
   "outputs": [],
   "source": [
    "datetime_t0 = series['datetime(t)']"
   ]
  },
  {
   "cell_type": "code",
   "execution_count": 15,
   "metadata": {},
   "outputs": [],
   "source": [
    "datetime_cols = [c for c in series.columns if 'datetime' in c]"
   ]
  },
  {
   "cell_type": "code",
   "execution_count": 16,
   "metadata": {},
   "outputs": [],
   "source": [
    "series.drop(datetime_cols, axis=1, inplace=True)"
   ]
  },
  {
   "cell_type": "code",
   "execution_count": 17,
   "metadata": {},
   "outputs": [],
   "source": [
    "series['datetime'] = datetime_t0"
   ]
  },
  {
   "cell_type": "code",
   "execution_count": 18,
   "metadata": {},
   "outputs": [],
   "source": [
    "series['hour'] = series['datetime'].dt.hour\n",
    "series['dayofweek'] = series['datetime'].dt.dayofweek\n",
    "series['quarter'] = series['datetime'].dt.quarter\n",
    "series['month'] = series['datetime'].dt.month\n",
    "series['year'] = series['datetime'].dt.year \n",
    "series['dayofyear'] = series['datetime'].dt.dayofyear\n",
    "series['dayofmonth'] = series['datetime'].dt.day\n",
    "series['weekofyear'] = series['datetime'].dt.weekofyear"
   ]
  },
  {
   "cell_type": "code",
   "execution_count": 19,
   "metadata": {},
   "outputs": [],
   "source": [
    "scaler = StandardScaler()"
   ]
  },
  {
   "cell_type": "code",
   "execution_count": 20,
   "metadata": {},
   "outputs": [],
   "source": [
    "y_train = series[series.year.isin([2017,2018])][['Wind(t+18)']]\n",
    "y_test = series[series.year.isin([2019])][['Wind(t+18)']]\n",
    "y_holdout = series[series.year.isin([2020])][['Wind(t+18)']]"
   ]
  },
  {
   "cell_type": "code",
   "execution_count": 21,
   "metadata": {},
   "outputs": [],
   "source": [
    "leak_cols = [c for c in series.columns if '(t+%d)' % lag_size in c]"
   ]
  },
  {
   "cell_type": "code",
   "execution_count": 22,
   "metadata": {},
   "outputs": [],
   "source": [
    "series.drop(leak_cols, axis=1, inplace=True)"
   ]
  },
  {
   "cell_type": "code",
   "execution_count": 23,
   "metadata": {},
   "outputs": [],
   "source": [
    "X_train = scaler.fit_transform(series[series.year.isin([2017,2018])].drop(columns=['datetime','year','month']))\n",
    "X_test = scaler.transform(series[series.year.isin([2019])].drop(columns=['datetime','year','month']))\n",
    "X_holdout = scaler.transform(series[series.year.isin([2020])].drop(columns=['datetime','year','month']))"
   ]
  },
  {
   "cell_type": "code",
   "execution_count": 28,
   "metadata": {},
   "outputs": [],
   "source": [
    "X_train_series = X_train.reshape((X_train.shape[0], X_train.shape[1], 1))\n",
    "X_test_series = X_test.reshape((X_test.shape[0], X_test.shape[1], 1))\n",
    "X_holdout_series = X_holdout.reshape((X_holdout.shape[0], X_holdout.shape[1], 1))"
   ]
  },
  {
   "cell_type": "code",
   "execution_count": 29,
   "metadata": {},
   "outputs": [],
   "source": [
    "reg = keras.models.load_model(\"ai4impact_cnn.h5\")"
   ]
  },
  {
   "cell_type": "code",
   "execution_count": 30,
   "metadata": {},
   "outputs": [],
   "source": [
    "y_holdout_pred = reg.predict(X_holdout_series)"
   ]
  },
  {
   "cell_type": "code",
   "execution_count": 32,
   "metadata": {},
   "outputs": [],
   "source": [
    "series = series_to_supervised(data, window=window, lag=lag).reset_index(drop=True)\n",
    "datetime_t0 = series['datetime(t)']\n",
    "datetime_cols = [c for c in series.columns if 'datetime' in c]\n",
    "series.drop(datetime_cols, axis=1, inplace=True)\n",
    "series['datetime'] = datetime_t0\n",
    "series['hour'] = series['datetime'].dt.hour\n",
    "series['dayofweek'] = series['datetime'].dt.dayofweek\n",
    "series['quarter'] = series['datetime'].dt.quarter\n",
    "series['month'] = series['datetime'].dt.month\n",
    "series['year'] = series['datetime'].dt.year \n",
    "series['dayofyear'] = series['datetime'].dt.dayofyear\n",
    "series['dayofmonth'] = series['datetime'].dt.day\n",
    "series['weekofyear'] = series['datetime'].dt.weekofyear"
   ]
  },
  {
   "cell_type": "code",
   "execution_count": 33,
   "metadata": {},
   "outputs": [],
   "source": [
    "holdout_result = series[series.year.isin([2020])].copy()\n",
    "holdout_result['prediction'] = y_holdout_pred"
   ]
  },
  {
   "cell_type": "code",
   "execution_count": 37,
   "metadata": {},
   "outputs": [],
   "source": [
    "pred_df = holdout_result[['datetime', 'prediction']]"
   ]
  },
  {
   "cell_type": "code",
   "execution_count": 38,
   "metadata": {},
   "outputs": [],
   "source": [
    "agg_df = pred_df[['datetime','prediction']].groupby([pred_df['datetime'].dt.floor('H')]).agg(['mean','sum','std'])"
   ]
  },
  {
   "cell_type": "code",
   "execution_count": 39,
   "metadata": {},
   "outputs": [],
   "source": [
    "agg_df.columns = agg_df.columns.map('_'.join)"
   ]
  },
  {
   "cell_type": "code",
   "execution_count": 40,
   "metadata": {},
   "outputs": [],
   "source": [
    "agg_df = agg_df.reset_index()"
   ]
  },
  {
   "cell_type": "code",
   "execution_count": 58,
   "metadata": {},
   "outputs": [
    {
     "data": {
      "text/plain": [
       "datetime.datetime(2020, 7, 22, 8, 0)"
      ]
     },
     "execution_count": 58,
     "metadata": {},
     "output_type": "execute_result"
    }
   ],
   "source": [
    "round_to_hour(datetime.datetime.utcnow() - datetime.timedelta(hours=1) + datetime.timedelta(hours=18))"
   ]
  },
  {
   "cell_type": "code",
   "execution_count": 50,
   "metadata": {},
   "outputs": [],
   "source": [
    "current_hour = round_to_hour(datetime.datetime.utcnow() - datetime.timedelta(hours=1))"
   ]
  },
  {
   "cell_type": "code",
   "execution_count": 51,
   "metadata": {},
   "outputs": [
    {
     "data": {
      "text/plain": [
       "datetime.datetime(2020, 7, 21, 13, 0)"
      ]
     },
     "execution_count": 51,
     "metadata": {},
     "output_type": "execute_result"
    }
   ],
   "source": [
    "current_hour"
   ]
  },
  {
   "cell_type": "code",
   "execution_count": 52,
   "metadata": {},
   "outputs": [],
   "source": [
    "predicted_value = str(agg_df[agg_df.datetime <= current_hour].prediction_sum.values[-1])"
   ]
  },
  {
   "cell_type": "code",
   "execution_count": 53,
   "metadata": {},
   "outputs": [
    {
     "data": {
      "text/plain": [
       "'18569.363'"
      ]
     },
     "execution_count": 53,
     "metadata": {},
     "output_type": "execute_result"
    }
   ],
   "source": [
    "predicted_value"
   ]
  },
  {
   "cell_type": "code",
   "execution_count": 54,
   "metadata": {},
   "outputs": [],
   "source": [
    "url = \"http://3.1.52.222/submit/pred?pwd=3423549827&value=\""
   ]
  },
  {
   "cell_type": "code",
   "execution_count": 55,
   "metadata": {},
   "outputs": [],
   "source": [
    "webUrl = urllib.request.urlopen(url + predicted_value)"
   ]
  },
  {
   "cell_type": "code",
   "execution_count": 56,
   "metadata": {},
   "outputs": [
    {
     "data": {
      "text/plain": [
       "b'Submitted \\nReceived: 21-Jul-2020 14:10:13 UTC \\nFor     : 22-Jul-2020 07:00:00 UTC \\nValue   : 18569.363 \\n'"
      ]
     },
     "execution_count": 56,
     "metadata": {},
     "output_type": "execute_result"
    }
   ],
   "source": [
    "webUrl.read()"
   ]
  },
  {
   "cell_type": "code",
   "execution_count": null,
   "metadata": {},
   "outputs": [],
   "source": []
  },
  {
   "cell_type": "code",
   "execution_count": null,
   "metadata": {},
   "outputs": [],
   "source": []
  },
  {
   "cell_type": "code",
   "execution_count": null,
   "metadata": {},
   "outputs": [],
   "source": []
  },
  {
   "cell_type": "code",
   "execution_count": null,
   "metadata": {},
   "outputs": [],
   "source": []
  },
  {
   "cell_type": "code",
   "execution_count": null,
   "metadata": {},
   "outputs": [],
   "source": []
  }
 ],
 "metadata": {
  "kernelspec": {
   "display_name": "Python 3",
   "language": "python",
   "name": "python3"
  },
  "language_info": {
   "codemirror_mode": {
    "name": "ipython",
    "version": 3
   },
   "file_extension": ".py",
   "mimetype": "text/x-python",
   "name": "python",
   "nbconvert_exporter": "python",
   "pygments_lexer": "ipython3",
   "version": "3.7.6"
  }
 },
 "nbformat": 4,
 "nbformat_minor": 4
}
