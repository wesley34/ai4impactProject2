{
 "cells": [
  {
   "cell_type": "code",
   "execution_count": 2,
   "metadata": {},
   "outputs": [],
   "source": [
    "import matplotlib.pyplot as plt\n",
    "import numpy as np"
   ]
  },
  {
   "cell_type": "code",
   "execution_count": 16,
   "metadata": {},
   "outputs": [],
   "source": [
    "import matplotlib.pyplot as plt\n",
    "def trading (forecast,actual):\n",
    "#execute the trading from the result of forecast and actual energy production\n",
    "#forecast: an 1D array of forecast values (Unit:kWh)\n",
    "#actual: an 1D array of actual values (Unit:kWh)\n",
    "  \n",
    "    #initial budget\n",
    "    budget=1e9\n",
    "    #counters initialize: short falling and panalty counter\n",
    "    SFcount=0;\n",
    "    Pcount=0;\n",
    "    cashFlow=[1e9]\n",
    "    \n",
    "    for f,a in zip(forecast,actual):\n",
    "        if f <= a:\n",
    "            budget += f*10\n",
    "        elif f > a:#short falling\n",
    "            budget += a*10\n",
    "            #calculate cost of spot price energy\n",
    "            spotP = 20*(f-a)\n",
    "            SFcount += 1\n",
    "            if budget >= spotP:\n",
    "                budget -= 20*(f-a)\n",
    "            else:\n",
    "                #receive penalty from the government\n",
    "                if budget>0:\n",
    "                    #buy from grid if budget not equal to 0\n",
    "                    spotP-=budget\n",
    "                    budget=0\n",
    "                #fine =5* spotP\n",
    "                budget -= 5*spotP\n",
    "                Pcount+=1\n",
    "        cashFlow.append(budget)\n",
    "    timeStep= list(range(0, len(cashFlow)))\n",
    "    #Reporting\n",
    "    plt.plot(timeStep,cashFlow)\n",
    "    plt.show()\n",
    "    print (\"resultant budget: \",budget)\n",
    "    print (\"net profit: \",budget-1e9)\n",
    "    print (\"number of short falling: \",SFcount )\n",
    "    print (\"number of panalty: \",Pcount )\n",
    "    print (\"Cash flow: \",cashFlow )"
   ]
  },
  {
   "cell_type": "markdown",
   "metadata": {},
   "source": [
    "Testing"
   ]
  },
  {
   "cell_type": "code",
   "execution_count": 17,
   "metadata": {},
   "outputs": [
    {
     "data": {
      "image/png": "[encoded data removed]",
      "text/plain": [
       "<Figure size 432x288 with 1 Axes>"
      ]
     },
     "metadata": {
      "needs_background": "light"
     },
     "output_type": "display_data"
    },
    {
     "name": "stdout",
     "output_type": "stream",
     "text": [
      "resultant budget:  1000000900.0\n",
      "net profit:  900.0\n",
      "number of short falling:  1\n",
      "number of panalty:  0\n",
      "Cash flow:  [1000000000.0, 1000000000.0, 1000000900.0]\n"
     ]
    }
   ],
   "source": [
    "forecast=(0,105)\n",
    "actual=(0,100)\n",
    "trading(forecast,actual)"
   ]
  },
  {
   "cell_type": "code",
   "execution_count": 18,
   "metadata": {},
   "outputs": [
    {
     "data": {
      "image/png": "[encoded data removed]",
      "text/plain": [
       "<Figure size 432x288 with 1 Axes>"
      ]
     },
     "metadata": {
      "needs_background": "light"
     },
     "output_type": "display_data"
    },
    {
     "name": "stdout",
     "output_type": "stream",
     "text": [
      "resultant budget:  1000005900.0\n",
      "net profit:  5900.0\n",
      "number of short falling:  1\n",
      "number of panalty:  0\n",
      "Cash flow:  [1000000000.0, 1000000000.0, 1000003000.0, 1000005000.0, 1000005900.0]\n"
     ]
    }
   ],
   "source": [
    "forecast=(0,300,200,105)\n",
    "actual=(0,300,300,100)\n",
    "trading(forecast,actual)"
   ]
  },
  {
   "cell_type": "code",
   "execution_count": null,
   "metadata": {},
   "outputs": [],
   "source": []
  },
  {
   "cell_type": "code",
   "execution_count": null,
   "metadata": {},
   "outputs": [],
   "source": []
  }
 ],
 "metadata": {
  "kernelspec": {
   "display_name": "Python 3",
   "language": "python",
   "name": "python3"
  },
  "language_info": {
   "codemirror_mode": {
    "name": "ipython",
    "version": 3
   },
   "file_extension": ".py",
   "mimetype": "text/x-python",
   "name": "python",
   "nbconvert_exporter": "python",
   "pygments_lexer": "ipython3",
   "version": "3.7.7"
  }
 },
 "nbformat": 4,
 "nbformat_minor": 4
}
