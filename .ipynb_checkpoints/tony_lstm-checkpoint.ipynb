{
 "cells": [
  {
   "cell_type": "code",
   "execution_count": 171,
   "metadata": {},
   "outputs": [],
   "source": [
    "import tensorflow as tf\n",
    "physical_devices = tf.config.list_physical_devices('GPU') \n",
    "tf.config.experimental.set_memory_growth(physical_devices[0], True)"
   ]
  },
  {
   "cell_type": "code",
   "execution_count": 172,
   "metadata": {},
   "outputs": [],
   "source": [
    "import warnings\n",
    "import numpy as np\n",
    "import pandas as pd\n",
    "import matplotlib.pyplot as plt\n",
    "from keras import optimizers\n",
    "from keras.utils import plot_model\n",
    "from keras.models import Sequential, Model\n",
    "from keras.layers.convolutional import Conv1D, MaxPooling1D\n",
    "from keras.layers import Dense, LSTM, RepeatVector, TimeDistributed, Flatten\n",
    "from sklearn.metrics import mean_squared_error\n",
    "\n",
    "from sklearn.preprocessing import StandardScaler # for normalization\n",
    "from sklearn.preprocessing import MinMaxScaler"
   ]
  },
  {
   "cell_type": "code",
   "execution_count": 173,
   "metadata": {},
   "outputs": [],
   "source": [
    "import numpy as np \n",
    "import pandas as pd \n",
    "import seaborn as sns\n",
    "import matplotlib.pyplot as plt\n",
    "import xgboost as xgb\n",
    "from xgboost import plot_importance, plot_tree\n",
    "from sklearn.metrics import mean_squared_error, mean_absolute_error\n",
    "from matplotlib import pyplot\n",
    "\n",
    "import shap\n",
    "from catboost import CatBoostRegressor, Pool\n",
    "\n",
    "plt.style.use('fivethirtyeight')\n",
    "\n",
    "pd.set_option('display.max_rows', 500)\n",
    "\n",
    "pyplot.rcParams[\"figure.figsize\"] = (20,10)"
   ]
  },
  {
   "cell_type": "code",
   "execution_count": 174,
   "metadata": {},
   "outputs": [],
   "source": [
    "import matplotlib.pyplot as plt\n",
    "def trading(forecast,actual):\n",
    "#execute the trading from the result of forecast and actual energy production\n",
    "#forecast: an 1D array of forecast values (Unit:kWh)\n",
    "#actual: an 1D array of actual values (Unit:kWh)\n",
    "  \n",
    "    #initial budget\n",
    "    budget=1e9\n",
    "    #counters initialize: short falling and panalty counter\n",
    "    SFcount=0;\n",
    "    Pcount=0;\n",
    "    cashFlow=[1e9]\n",
    "    \n",
    "    for f,a in zip(forecast,actual):\n",
    "        if f <= a:\n",
    "            budget += f*10\n",
    "        elif f > a:#short falling\n",
    "            #calculate cost of spot price energy\n",
    "            budget += a*10\n",
    "            spotP = 20*(f-a)\n",
    "            SFcount+= 1\n",
    "            if budget >= spotP:\n",
    "                budget -= 20*(f-a)\n",
    "            else:\n",
    "                #receive penalty from the government\n",
    "                if budget>0:\n",
    "                    #buy from grid if budget not equal to 0\n",
    "                    spotP-=budget\n",
    "                    budget=0\n",
    "                #fine =5* spotP\n",
    "                budget -= 5*spotP\n",
    "                Pcount+=1\n",
    "        cashFlow.append(budget)\n",
    "    timeStep= list(range(0, len(cashFlow)))\n",
    "    #Reporting\n",
    "    plt.plot(timeStep,cashFlow)\n",
    "    plt.show()\n",
    "    print (\"resultant budget: \",budget)\n",
    "    print (\"net profit: \",budget-1e9)\n",
    "    print (\"number of short falling: \",SFcount )\n",
    "    print (\"number of panalty: \",Pcount )\n",
    "    #print (\"Cash flow: \",cashFlow )"
   ]
  },
  {
   "cell_type": "code",
   "execution_count": 175,
   "metadata": {},
   "outputs": [],
   "source": [
    "def series_to_supervised(data, window=1, lag=1, dropnan=True):\n",
    "    cols, names = list(), list()\n",
    "    # Input sequence (t-n, ... t-1)\n",
    "    for i in range(window, 0, -1):\n",
    "        cols.append(data.shift(i))\n",
    "        names += [('%s(t-%d)' % (col, i)) for col in data.columns]\n",
    "    # Current timestep (t=0)\n",
    "    cols.append(data)\n",
    "    names += [('%s(t)' % (col)) for col in data.columns]\n",
    "    # Target timestep (t=lag)\n",
    "    cols.append(data.shift(-lag))\n",
    "    names += [('%s(t+%d)' % (col, lag)) for col in data.columns]\n",
    "    # Put it all together\n",
    "    agg = pd.concat(cols, axis=1)\n",
    "    agg.columns = names\n",
    "    # Drop rows with NaN values\n",
    "    if dropnan:\n",
    "        agg.dropna(inplace=True)\n",
    "    return agg"
   ]
  },
  {
   "cell_type": "code",
   "execution_count": 176,
   "metadata": {},
   "outputs": [],
   "source": [
    "data = pd.read_csv(\"combined_energy_data.csv\", low_memory=False)"
   ]
  },
  {
   "cell_type": "code",
   "execution_count": 177,
   "metadata": {},
   "outputs": [],
   "source": [
    "data = data.drop_duplicates(subset=['datetime'])"
   ]
  },
  {
   "cell_type": "code",
   "execution_count": 178,
   "metadata": {},
   "outputs": [],
   "source": [
    "data['datetime'] = data['datetime'].apply(lambda x: x.split(\"+\")[0])"
   ]
  },
  {
   "cell_type": "code",
   "execution_count": 179,
   "metadata": {},
   "outputs": [],
   "source": [
    "data['datetime'] = pd.to_datetime(data['datetime'])"
   ]
  },
  {
   "cell_type": "code",
   "execution_count": 180,
   "metadata": {},
   "outputs": [],
   "source": [
    "columns_use = ['datetime','Wind', 'guitrancourt_Speed(m/s)', 'guitrancourt_Direction (deg N)',\n",
    "       'lieusaint_Speed(m/s)', 'lieusaint_Direction (deg N)',\n",
    "       'lvs-pussay_Speed(m/s)', 'lvs-pussay_Direction (deg N)',\n",
    "       'parc-du-gatinais_Speed(m/s)', 'parc-du-gatinais_Direction (deg N)',\n",
    "       'arville_Speed(m/s)', 'arville_Direction (deg N)',\n",
    "       'boissy-la-riviere_Speed(m/s)', 'boissy-la-riviere_Direction (deg N)',\n",
    "       'angerville-1_Speed(m/s)', 'angerville-1_Direction (deg N)',\n",
    "       'angerville-2_Speed(m/s)', 'angerville-2_Direction (deg N)',\n",
    "       'guitrancourt-b_Speed(m/s)', 'guitrancourt-b_Direction (deg N)',\n",
    "       'lieusaint-b_Speed(m/s)', 'lieusaint-b_Direction (deg N)',\n",
    "       'lvs-pussay-b_Speed(m/s)', 'lvs-pussay-b_Direction (deg N)',\n",
    "       'parc-du-gatinais-b_Speed(m/s)', 'parc-du-gatinais-b_Direction (deg N)',\n",
    "       'arville-b_Speed(m/s)', 'arville-b_Direction (deg N)',\n",
    "       'boissy-la-riviere-b_Speed(m/s)',\n",
    "       'boissy-la-riviere-b_Direction (deg N)', 'angerville-1-b_Speed(m/s)',\n",
    "       'angerville-1-b_Direction (deg N)', 'angerville-2-b_Speed(m/s)',\n",
    "       'angerville-2-b_Direction (deg N)']"
   ]
  },
  {
   "cell_type": "code",
   "execution_count": 181,
   "metadata": {},
   "outputs": [],
   "source": [
    "#agg_df = df[['datetime','Wind']].groupby([df['datetime'].dt.floor('H')]).agg(['mean','sum','std'])\n",
    "#agg_df.columns = agg_df.columns.map('_'.join)\n",
    "#agg_df = agg_df.reset_index()\n",
    "#merge_df = agg_df.merge(df[columns_use], how='left', on='datetime')\n",
    "#merge_df = merge_df.fillna(method='ffill')"
   ]
  },
  {
   "cell_type": "code",
   "execution_count": 182,
   "metadata": {},
   "outputs": [],
   "source": [
    "#data = merge_df.copy()"
   ]
  },
  {
   "cell_type": "code",
   "execution_count": 183,
   "metadata": {},
   "outputs": [],
   "source": [
    "data = data[columns_use].fillna(method='ffill')"
   ]
  },
  {
   "cell_type": "code",
   "execution_count": 184,
   "metadata": {},
   "outputs": [],
   "source": [
    "data.dropna(inplace=True)"
   ]
  },
  {
   "cell_type": "code",
   "execution_count": 185,
   "metadata": {},
   "outputs": [],
   "source": [
    "window = 29 \n",
    "lag_size = 18\n",
    "lag = lag_size"
   ]
  },
  {
   "cell_type": "code",
   "execution_count": 208,
   "metadata": {},
   "outputs": [],
   "source": [
    "series = series_to_supervised(data, window=window, lag=lag).reset_index(drop=True)"
   ]
  },
  {
   "cell_type": "code",
   "execution_count": 209,
   "metadata": {},
   "outputs": [],
   "source": [
    "datetime_t0 = series['datetime(t)']"
   ]
  },
  {
   "cell_type": "code",
   "execution_count": 210,
   "metadata": {},
   "outputs": [],
   "source": [
    "datetime_cols = [c for c in series.columns if 'datetime' in c]"
   ]
  },
  {
   "cell_type": "code",
   "execution_count": 211,
   "metadata": {},
   "outputs": [],
   "source": [
    "series.drop(datetime_cols, axis=1, inplace=True)"
   ]
  },
  {
   "cell_type": "code",
   "execution_count": 212,
   "metadata": {},
   "outputs": [],
   "source": [
    "series['datetime'] = datetime_t0"
   ]
  },
  {
   "cell_type": "code",
   "execution_count": null,
   "metadata": {},
   "outputs": [],
   "source": []
  },
  {
   "cell_type": "code",
   "execution_count": 213,
   "metadata": {},
   "outputs": [],
   "source": [
    "series['hour'] = series['datetime'].dt.hour\n",
    "series['dayofweek'] = series['datetime'].dt.dayofweek\n",
    "series['quarter'] = series['datetime'].dt.quarter\n",
    "series['month'] = series['datetime'].dt.month\n",
    "series['year'] = series['datetime'].dt.year \n",
    "series['dayofyear'] = series['datetime'].dt.dayofyear\n",
    "series['dayofmonth'] = series['datetime'].dt.day\n",
    "series['weekofyear'] = series['datetime'].dt.weekofyear"
   ]
  },
  {
   "cell_type": "code",
   "execution_count": 192,
   "metadata": {},
   "outputs": [],
   "source": [
    "plt.rcParams[\"figure.figsize\"] = (20, 9)"
   ]
  },
  {
   "cell_type": "code",
   "execution_count": 193,
   "metadata": {},
   "outputs": [],
   "source": [
    "scaler = StandardScaler()"
   ]
  },
  {
   "cell_type": "code",
   "execution_count": 194,
   "metadata": {},
   "outputs": [],
   "source": [
    "y_train = series[series.year.isin([2017,2018])][['Wind(t+18)']]\n",
    "y_test = series[series.year.isin([2019])][['Wind(t+18)']]\n",
    "y_holdout = series[series.year.isin([2020])][['Wind(t+18)']]"
   ]
  },
  {
   "cell_type": "code",
   "execution_count": null,
   "metadata": {},
   "outputs": [],
   "source": []
  },
  {
   "cell_type": "code",
   "execution_count": 195,
   "metadata": {},
   "outputs": [],
   "source": [
    "leak_cols = [c for c in series.columns if '(t+%d)' % lag_size in c]"
   ]
  },
  {
   "cell_type": "code",
   "execution_count": 196,
   "metadata": {},
   "outputs": [],
   "source": [
    "series.drop(leak_cols, axis=1, inplace=True)"
   ]
  },
  {
   "cell_type": "code",
   "execution_count": 197,
   "metadata": {},
   "outputs": [],
   "source": [
    "X_train = scaler.fit_transform(series[series.year.isin([2017,2018])].drop(columns=['datetime','year','month']))\n",
    "X_test = scaler.transform(series[series.year.isin([2019])].drop(columns=['datetime','year','month']))\n",
    "X_holdout = scaler.transform(series[series.year.isin([2020])].drop(columns=['datetime','year','month']))"
   ]
  },
  {
   "cell_type": "code",
   "execution_count": null,
   "metadata": {},
   "outputs": [],
   "source": []
  },
  {
   "cell_type": "code",
   "execution_count": null,
   "metadata": {},
   "outputs": [],
   "source": []
  },
  {
   "cell_type": "code",
   "execution_count": 101,
   "metadata": {},
   "outputs": [],
   "source": [
    "#X_train.drop(leak_cols, axis=1, inplace=True)\n",
    "#X_test.drop(leak_cols, axis=1, inplace=True)\n",
    "#X_holdout.drop(leak_cols, axis=1, inplace=True)"
   ]
  },
  {
   "cell_type": "code",
   "execution_count": null,
   "metadata": {},
   "outputs": [],
   "source": []
  },
  {
   "cell_type": "code",
   "execution_count": 67,
   "metadata": {},
   "outputs": [],
   "source": []
  },
  {
   "cell_type": "code",
   "execution_count": null,
   "metadata": {},
   "outputs": [],
   "source": []
  },
  {
   "cell_type": "code",
   "execution_count": 26,
   "metadata": {},
   "outputs": [],
   "source": [
    "reg = CatBoostRegressor(iterations = 1000, \n",
    "                        learning_rate = 0.01, \n",
    "                        loss_function = \"RMSE\",\n",
    "                        max_depth = 1,\n",
    "                        task_type = \"GPU\",\n",
    "                        random_seed = 42\n",
    "                       )"
   ]
  },
  {
   "cell_type": "code",
   "execution_count": null,
   "metadata": {
    "scrolled": true
   },
   "outputs": [
    {
     "name": "stdout",
     "output_type": "stream",
     "text": [
      "0:\tlearn: 3260.6169379\ttest: 5705.6391205\tbest: 5705.6391205 (0)\ttotal: 11.1ms\tremaining: 11.1s\n",
      "1:\tlearn: 3245.8549273\ttest: 5685.7679405\tbest: 5685.7679405 (1)\ttotal: 23.2ms\tremaining: 11.6s\n",
      "2:\tlearn: 3231.3206898\ttest: 5666.1674359\tbest: 5666.1674359 (2)\ttotal: 35.5ms\tremaining: 11.8s\n",
      "3:\tlearn: 3217.0128046\ttest: 5646.8341316\tbest: 5646.8341316 (3)\ttotal: 47ms\tremaining: 11.7s\n",
      "4:\tlearn: 3202.9272941\ttest: 5627.7647985\tbest: 5627.7647985 (4)\ttotal: 58.4ms\tremaining: 11.6s\n",
      "5:\tlearn: 3189.0451001\ttest: 5607.6283437\tbest: 5607.6283437 (5)\ttotal: 69.5ms\tremaining: 11.5s\n",
      "6:\tlearn: 3175.3892208\ttest: 5588.1365310\tbest: 5588.1365310 (6)\ttotal: 81ms\tremaining: 11.5s\n",
      "7:\tlearn: 3161.9031100\ttest: 5569.7876461\tbest: 5569.7876461 (7)\ttotal: 92.1ms\tremaining: 11.4s\n",
      "8:\tlearn: 3148.6290665\ttest: 5551.6897826\tbest: 5551.6897826 (8)\ttotal: 103ms\tremaining: 11.4s\n",
      "9:\tlearn: 3135.5321848\ttest: 5532.5508163\tbest: 5532.5508163 (9)\ttotal: 115ms\tremaining: 11.4s\n",
      "10:\tlearn: 3122.6418113\ttest: 5513.6729706\tbest: 5513.6729706 (10)\ttotal: 127ms\tremaining: 11.4s\n",
      "11:\tlearn: 3109.9171900\ttest: 5497.3388218\tbest: 5497.3388218 (11)\ttotal: 138ms\tremaining: 11.3s\n",
      "12:\tlearn: 3097.3886083\ttest: 5478.1057478\tbest: 5478.1057478 (12)\ttotal: 149ms\tremaining: 11.3s\n",
      "13:\tlearn: 3084.9891530\ttest: 5462.6254703\tbest: 5462.6254703 (13)\ttotal: 160ms\tremaining: 11.2s\n",
      "14:\tlearn: 3072.7887475\ttest: 5447.3599447\tbest: 5447.3599447 (14)\ttotal: 171ms\tremaining: 11.2s\n",
      "15:\tlearn: 3060.7274107\ttest: 5428.3117835\tbest: 5428.3117835 (15)\ttotal: 182ms\tremaining: 11.2s\n",
      "16:\tlearn: 3048.8224444\ttest: 5411.4500406\tbest: 5411.4500406 (16)\ttotal: 192ms\tremaining: 11.1s\n",
      "17:\tlearn: 3037.0792305\ttest: 5396.7002401\tbest: 5396.7002401 (17)\ttotal: 203ms\tremaining: 11.1s\n",
      "18:\tlearn: 3025.6470093\ttest: 5380.8621965\tbest: 5380.8621965 (18)\ttotal: 215ms\tremaining: 11.1s\n",
      "19:\tlearn: 3014.1745322\ttest: 5362.1434678\tbest: 5362.1434678 (19)\ttotal: 226ms\tremaining: 11.1s\n",
      "20:\tlearn: 3002.8666805\ttest: 5344.5520592\tbest: 5344.5520592 (20)\ttotal: 237ms\tremaining: 11.1s\n",
      "21:\tlearn: 2991.6815360\ttest: 5330.4369225\tbest: 5330.4369225 (21)\ttotal: 248ms\tremaining: 11s\n",
      "22:\tlearn: 2980.6225206\ttest: 5311.3938116\tbest: 5311.3938116 (22)\ttotal: 259ms\tremaining: 11s\n",
      "23:\tlearn: 2969.7104200\ttest: 5297.5889759\tbest: 5297.5889759 (23)\ttotal: 270ms\tremaining: 11s\n",
      "24:\tlearn: 2958.9225111\ttest: 5278.9503888\tbest: 5278.9503888 (24)\ttotal: 281ms\tremaining: 10.9s\n",
      "25:\tlearn: 2948.3102993\ttest: 5260.5681000\tbest: 5260.5681000 (25)\ttotal: 290ms\tremaining: 10.9s\n",
      "26:\tlearn: 2937.7935198\ttest: 5246.1164756\tbest: 5246.1164756 (26)\ttotal: 301ms\tremaining: 10.9s\n",
      "27:\tlearn: 2927.3872643\ttest: 5232.8915539\tbest: 5232.8915539 (27)\ttotal: 313ms\tremaining: 10.9s\n",
      "28:\tlearn: 2917.1430729\ttest: 5215.0617913\tbest: 5215.0617913 (28)\ttotal: 323ms\tremaining: 10.8s\n",
      "29:\tlearn: 2906.9949075\ttest: 5202.1295465\tbest: 5202.1295465 (29)\ttotal: 333ms\tremaining: 10.8s\n",
      "30:\tlearn: 2897.0199994\ttest: 5186.3580620\tbest: 5186.3580620 (30)\ttotal: 344ms\tremaining: 10.7s\n",
      "31:\tlearn: 2887.1447977\ttest: 5173.7304461\tbest: 5173.7304461 (31)\ttotal: 353ms\tremaining: 10.7s\n",
      "32:\tlearn: 2877.3900021\ttest: 5156.3306068\tbest: 5156.3306068 (32)\ttotal: 363ms\tremaining: 10.6s\n",
      "33:\tlearn: 2867.7587990\ttest: 5143.9794667\tbest: 5143.9794667 (33)\ttotal: 373ms\tremaining: 10.6s\n",
      "34:\tlearn: 2858.2846816\ttest: 5132.4846531\tbest: 5132.4846531 (34)\ttotal: 384ms\tremaining: 10.6s\n",
      "35:\tlearn: 2848.8283222\ttest: 5115.8453288\tbest: 5115.8453288 (35)\ttotal: 395ms\tremaining: 10.6s\n",
      "36:\tlearn: 2839.5292843\ttest: 5099.4365454\tbest: 5099.4365454 (36)\ttotal: 406ms\tremaining: 10.6s\n",
      "37:\tlearn: 2830.3544082\ttest: 5088.2734336\tbest: 5088.2734336 (37)\ttotal: 416ms\tremaining: 10.5s\n",
      "38:\tlearn: 2821.3335916\ttest: 5077.2664872\tbest: 5077.2664872 (38)\ttotal: 426ms\tremaining: 10.5s\n",
      "39:\tlearn: 2812.3392341\ttest: 5060.6762514\tbest: 5060.6762514 (39)\ttotal: 437ms\tremaining: 10.5s\n",
      "40:\tlearn: 2803.6210647\ttest: 5045.1675779\tbest: 5045.1675779 (40)\ttotal: 447ms\tremaining: 10.4s\n",
      "41:\tlearn: 2794.8743615\ttest: 5033.4614213\tbest: 5033.4614213 (41)\ttotal: 457ms\tremaining: 10.4s\n",
      "42:\tlearn: 2786.2368781\ttest: 5017.4222187\tbest: 5017.4222187 (42)\ttotal: 467ms\tremaining: 10.4s\n",
      "43:\tlearn: 2777.6557379\ttest: 5007.5590328\tbest: 5007.5590328 (43)\ttotal: 476ms\tremaining: 10.3s\n",
      "44:\tlearn: 2769.2199052\ttest: 4993.9128832\tbest: 4993.9128832 (44)\ttotal: 486ms\tremaining: 10.3s\n",
      "45:\tlearn: 2760.8543757\ttest: 4984.2664444\tbest: 4984.2664444 (45)\ttotal: 496ms\tremaining: 10.3s\n",
      "46:\tlearn: 2752.6242898\ttest: 4970.5742231\tbest: 4970.5742231 (46)\ttotal: 506ms\tremaining: 10.3s\n",
      "47:\tlearn: 2744.4579943\ttest: 4955.2820256\tbest: 4955.2820256 (47)\ttotal: 516ms\tremaining: 10.2s\n",
      "48:\tlearn: 2736.3506747\ttest: 4945.9053550\tbest: 4945.9053550 (48)\ttotal: 526ms\tremaining: 10.2s\n",
      "49:\tlearn: 2728.3648432\ttest: 4931.2289616\tbest: 4931.2289616 (49)\ttotal: 535ms\tremaining: 10.2s\n",
      "50:\tlearn: 2720.5438723\ttest: 4920.9968937\tbest: 4920.9968937 (50)\ttotal: 543ms\tremaining: 10.1s\n",
      "51:\tlearn: 2712.7295844\ttest: 4911.9188424\tbest: 4911.9188424 (51)\ttotal: 553ms\tremaining: 10.1s\n",
      "52:\tlearn: 2704.9899210\ttest: 4897.0638194\tbest: 4897.0638194 (52)\ttotal: 563ms\tremaining: 10.1s\n",
      "53:\tlearn: 2697.3560498\ttest: 4888.1692016\tbest: 4888.1692016 (53)\ttotal: 573ms\tremaining: 10s\n",
      "54:\tlearn: 2689.7946953\ttest: 4873.6021936\tbest: 4873.6021936 (54)\ttotal: 585ms\tremaining: 10s\n",
      "55:\tlearn: 2682.3634157\ttest: 4859.4746195\tbest: 4859.4746195 (55)\ttotal: 595ms\tremaining: 10s\n",
      "56:\tlearn: 2674.9532905\ttest: 4850.8170658\tbest: 4850.8170658 (56)\ttotal: 605ms\tremaining: 10s\n",
      "57:\tlearn: 2667.6706839\ttest: 4842.2817477\tbest: 4842.2817477 (57)\ttotal: 615ms\tremaining: 9.99s\n",
      "58:\tlearn: 2660.5138299\ttest: 4833.8671844\tbest: 4833.8671844 (58)\ttotal: 625ms\tremaining: 9.97s\n",
      "59:\tlearn: 2653.3387296\ttest: 4819.9307036\tbest: 4819.9307036 (59)\ttotal: 634ms\tremaining: 9.94s\n",
      "60:\tlearn: 2646.2807450\ttest: 4805.9168343\tbest: 4805.9168343 (60)\ttotal: 644ms\tremaining: 9.91s\n",
      "61:\tlearn: 2639.3136075\ttest: 4794.8663921\tbest: 4794.8663921 (61)\ttotal: 653ms\tremaining: 9.88s\n",
      "62:\tlearn: 2632.4282639\ttest: 4786.2000324\tbest: 4786.2000324 (62)\ttotal: 662ms\tremaining: 9.84s\n",
      "63:\tlearn: 2625.6534206\ttest: 4776.3494890\tbest: 4776.3494890 (63)\ttotal: 671ms\tremaining: 9.82s\n",
      "64:\tlearn: 2618.9180359\ttest: 4763.1203197\tbest: 4763.1203197 (64)\ttotal: 681ms\tremaining: 9.8s\n",
      "65:\tlearn: 2612.2645013\ttest: 4755.2379641\tbest: 4755.2379641 (65)\ttotal: 691ms\tremaining: 9.78s\n",
      "66:\tlearn: 2605.6713602\ttest: 4741.9936833\tbest: 4741.9936833 (66)\ttotal: 702ms\tremaining: 9.77s\n",
      "67:\tlearn: 2599.2005392\ttest: 4729.6874832\tbest: 4729.6874832 (67)\ttotal: 712ms\tremaining: 9.75s\n",
      "68:\tlearn: 2592.7474908\ttest: 4722.0182960\tbest: 4722.0182960 (68)\ttotal: 721ms\tremaining: 9.72s\n",
      "69:\tlearn: 2586.4787577\ttest: 4713.5761511\tbest: 4713.5761511 (69)\ttotal: 731ms\tremaining: 9.71s\n",
      "70:\tlearn: 2580.3141872\ttest: 4701.0668463\tbest: 4701.0668463 (70)\ttotal: 740ms\tremaining: 9.68s\n",
      "71:\tlearn: 2574.1570261\ttest: 4691.1065208\tbest: 4691.1065208 (71)\ttotal: 750ms\tremaining: 9.67s\n",
      "72:\tlearn: 2568.0018625\ttest: 4683.7445839\tbest: 4683.7445839 (72)\ttotal: 760ms\tremaining: 9.66s\n",
      "73:\tlearn: 2561.9344461\ttest: 4670.9279338\tbest: 4670.9279338 (73)\ttotal: 770ms\tremaining: 9.63s\n",
      "74:\tlearn: 2555.9221809\ttest: 4663.7134300\tbest: 4663.7134300 (74)\ttotal: 779ms\tremaining: 9.6s\n",
      "75:\tlearn: 2550.0162760\ttest: 4656.8187414\tbest: 4656.8187414 (75)\ttotal: 788ms\tremaining: 9.58s\n",
      "76:\tlearn: 2544.2867015\ttest: 4649.0357867\tbest: 4649.0357867 (76)\ttotal: 798ms\tremaining: 9.57s\n",
      "77:\tlearn: 2538.4328819\ttest: 4636.2934454\tbest: 4636.2934454 (77)\ttotal: 808ms\tremaining: 9.55s\n",
      "78:\tlearn: 2532.7863603\ttest: 4624.6589561\tbest: 4624.6589561 (78)\ttotal: 817ms\tremaining: 9.52s\n",
      "79:\tlearn: 2527.1206504\ttest: 4618.0109697\tbest: 4618.0109697 (79)\ttotal: 826ms\tremaining: 9.5s\n",
      "80:\tlearn: 2521.4873881\ttest: 4605.5064989\tbest: 4605.5064989 (80)\ttotal: 836ms\tremaining: 9.48s\n",
      "81:\tlearn: 2515.9576370\ttest: 4594.7048246\tbest: 4594.7048246 (81)\ttotal: 845ms\tremaining: 9.46s\n",
      "82:\tlearn: 2510.5004020\ttest: 4582.5133229\tbest: 4582.5133229 (82)\ttotal: 854ms\tremaining: 9.43s\n",
      "83:\tlearn: 2505.0300644\ttest: 4575.8717593\tbest: 4575.8717593 (83)\ttotal: 864ms\tremaining: 9.42s\n",
      "84:\tlearn: 2499.6477924\ttest: 4569.5167164\tbest: 4569.5167164 (84)\ttotal: 874ms\tremaining: 9.41s\n",
      "85:\tlearn: 2494.3646590\ttest: 4563.0560805\tbest: 4563.0560805 (85)\ttotal: 884ms\tremaining: 9.39s\n",
      "86:\tlearn: 2489.0884493\ttest: 4551.2056060\tbest: 4551.2056060 (86)\ttotal: 894ms\tremaining: 9.38s\n",
      "87:\tlearn: 2483.8910620\ttest: 4540.3171818\tbest: 4540.3171818 (87)\ttotal: 903ms\tremaining: 9.36s\n",
      "88:\tlearn: 2478.7273188\ttest: 4534.6342346\tbest: 4534.6342346 (88)\ttotal: 913ms\tremaining: 9.34s\n",
      "89:\tlearn: 2473.7093919\ttest: 4528.6909696\tbest: 4528.6909696 (89)\ttotal: 922ms\tremaining: 9.32s\n"
     ]
    },
    {
     "name": "stdout",
     "output_type": "stream",
     "text": [
      "90:\tlearn: 2468.6587143\ttest: 4517.3971618\tbest: 4517.3971618 (90)\ttotal: 932ms\tremaining: 9.31s\n",
      "91:\tlearn: 2463.6980401\ttest: 4511.6486525\tbest: 4511.6486525 (91)\ttotal: 942ms\tremaining: 9.29s\n",
      "92:\tlearn: 2458.7674092\ttest: 4500.5720547\tbest: 4500.5720547 (92)\ttotal: 953ms\tremaining: 9.29s\n",
      "93:\tlearn: 2453.8394540\ttest: 4495.1108036\tbest: 4495.1108036 (93)\ttotal: 962ms\tremaining: 9.27s\n",
      "94:\tlearn: 2449.0453321\ttest: 4489.5237508\tbest: 4489.5237508 (94)\ttotal: 972ms\tremaining: 9.26s\n",
      "95:\tlearn: 2444.2539609\ttest: 4484.1823219\tbest: 4484.1823219 (95)\ttotal: 981ms\tremaining: 9.23s\n",
      "96:\tlearn: 2439.4837669\ttest: 4473.4073652\tbest: 4473.4073652 (96)\ttotal: 990ms\tremaining: 9.22s\n",
      "97:\tlearn: 2434.8518892\ttest: 4467.9778018\tbest: 4467.9778018 (97)\ttotal: 1000ms\tremaining: 9.2s\n",
      "98:\tlearn: 2430.1819226\ttest: 4457.2564176\tbest: 4457.2564176 (98)\ttotal: 1.01s\tremaining: 9.19s\n",
      "99:\tlearn: 2425.5655527\ttest: 4452.0825715\tbest: 4452.0825715 (99)\ttotal: 1.02s\tremaining: 9.18s\n",
      "100:\tlearn: 2421.0138109\ttest: 4444.3577528\tbest: 4444.3577528 (100)\ttotal: 1.03s\tremaining: 9.18s\n",
      "101:\tlearn: 2416.5130268\ttest: 4433.4400208\tbest: 4433.4400208 (101)\ttotal: 1.04s\tremaining: 9.17s\n",
      "102:\tlearn: 2412.0726012\ttest: 4426.5540896\tbest: 4426.5540896 (102)\ttotal: 1.05s\tremaining: 9.15s\n",
      "103:\tlearn: 2407.6398224\ttest: 4421.5596527\tbest: 4421.5596527 (103)\ttotal: 1.06s\tremaining: 9.13s\n",
      "104:\tlearn: 2403.2689468\ttest: 4411.7675106\tbest: 4411.7675106 (104)\ttotal: 1.07s\tremaining: 9.12s\n",
      "105:\tlearn: 2399.0088703\ttest: 4406.4158776\tbest: 4406.4158776 (105)\ttotal: 1.08s\tremaining: 9.11s\n",
      "106:\tlearn: 2394.7399457\ttest: 4401.5749548\tbest: 4401.5749548 (106)\ttotal: 1.09s\tremaining: 9.09s\n",
      "107:\tlearn: 2390.5419721\ttest: 4396.5776691\tbest: 4396.5776691 (107)\ttotal: 1.1s\tremaining: 9.08s\n",
      "108:\tlearn: 2386.3006392\ttest: 4386.6640950\tbest: 4386.6640950 (108)\ttotal: 1.11s\tremaining: 9.08s\n",
      "109:\tlearn: 2382.1363998\ttest: 4376.8908953\tbest: 4376.8908953 (109)\ttotal: 1.12s\tremaining: 9.08s\n",
      "110:\tlearn: 2378.0583151\ttest: 4368.4810193\tbest: 4368.4810193 (110)\ttotal: 1.13s\tremaining: 9.07s\n",
      "111:\tlearn: 2374.0178597\ttest: 4363.6524527\tbest: 4363.6524527 (111)\ttotal: 1.14s\tremaining: 9.05s\n",
      "112:\tlearn: 2370.0552967\ttest: 4358.7397897\tbest: 4358.7397897 (112)\ttotal: 1.15s\tremaining: 9.05s\n",
      "113:\tlearn: 2366.0610856\ttest: 4348.8255549\tbest: 4348.8255549 (113)\ttotal: 1.16s\tremaining: 9.03s\n",
      "114:\tlearn: 2362.0782426\ttest: 4344.4257440\tbest: 4344.4257440 (114)\ttotal: 1.17s\tremaining: 9.01s\n",
      "115:\tlearn: 2358.2335938\ttest: 4339.8085552\tbest: 4339.8085552 (115)\ttotal: 1.18s\tremaining: 9s\n",
      "116:\tlearn: 2354.3479925\ttest: 4330.1136264\tbest: 4330.1136264 (116)\ttotal: 1.19s\tremaining: 8.99s\n",
      "117:\tlearn: 2350.4817430\ttest: 4325.9959557\tbest: 4325.9959557 (117)\ttotal: 1.2s\tremaining: 8.98s\n",
      "118:\tlearn: 2346.7267447\ttest: 4321.3549633\tbest: 4321.3549633 (118)\ttotal: 1.21s\tremaining: 8.97s\n",
      "119:\tlearn: 2342.9843977\ttest: 4313.6601211\tbest: 4313.6601211 (119)\ttotal: 1.22s\tremaining: 8.96s\n",
      "120:\tlearn: 2339.2526628\ttest: 4304.2730887\tbest: 4304.2730887 (120)\ttotal: 1.23s\tremaining: 8.95s\n",
      "121:\tlearn: 2335.5273846\ttest: 4300.2818318\tbest: 4300.2818318 (121)\ttotal: 1.24s\tremaining: 8.94s\n",
      "122:\tlearn: 2331.8699852\ttest: 4296.3469496\tbest: 4296.3469496 (122)\ttotal: 1.25s\tremaining: 8.92s\n",
      "123:\tlearn: 2328.2324600\ttest: 4287.1517309\tbest: 4287.1517309 (123)\ttotal: 1.26s\tremaining: 8.92s\n",
      "124:\tlearn: 2324.6688364\ttest: 4282.7210990\tbest: 4282.7210990 (124)\ttotal: 1.27s\tremaining: 8.91s\n",
      "125:\tlearn: 2321.1205014\ttest: 4273.7033728\tbest: 4273.7033728 (125)\ttotal: 1.28s\tremaining: 8.9s\n",
      "126:\tlearn: 2317.5869198\ttest: 4269.8811166\tbest: 4269.8811166 (126)\ttotal: 1.29s\tremaining: 8.89s\n",
      "127:\tlearn: 2314.1163753\ttest: 4261.0197163\tbest: 4261.0197163 (127)\ttotal: 1.3s\tremaining: 8.87s\n",
      "128:\tlearn: 2310.6926513\ttest: 4256.7365603\tbest: 4256.7365603 (128)\ttotal: 1.31s\tremaining: 8.86s\n",
      "129:\tlearn: 2307.2552295\ttest: 4252.6938720\tbest: 4252.6938720 (129)\ttotal: 1.32s\tremaining: 8.85s\n",
      "130:\tlearn: 2303.8983713\ttest: 4247.8257219\tbest: 4247.8257219 (130)\ttotal: 1.33s\tremaining: 8.84s\n",
      "131:\tlearn: 2300.5552218\ttest: 4239.6319193\tbest: 4239.6319193 (131)\ttotal: 1.34s\tremaining: 8.82s\n",
      "132:\tlearn: 2297.2337833\ttest: 4235.9994931\tbest: 4235.9994931 (132)\ttotal: 1.35s\tremaining: 8.81s\n",
      "133:\tlearn: 2294.0018573\ttest: 4232.0024111\tbest: 4232.0024111 (133)\ttotal: 1.36s\tremaining: 8.79s\n",
      "134:\tlearn: 2290.7962090\ttest: 4226.3125133\tbest: 4226.3125133 (134)\ttotal: 1.37s\tremaining: 8.78s\n",
      "135:\tlearn: 2287.5910790\ttest: 4218.9497741\tbest: 4218.9497741 (135)\ttotal: 1.38s\tremaining: 8.77s\n",
      "136:\tlearn: 2284.3951731\ttest: 4215.6196781\tbest: 4215.6196781 (136)\ttotal: 1.39s\tremaining: 8.75s\n",
      "137:\tlearn: 2281.2784608\ttest: 4211.6434487\tbest: 4211.6434487 (137)\ttotal: 1.4s\tremaining: 8.74s\n",
      "138:\tlearn: 2278.1182618\ttest: 4203.1069847\tbest: 4203.1069847 (138)\ttotal: 1.41s\tremaining: 8.72s\n",
      "139:\tlearn: 2275.0524820\ttest: 4199.5563243\tbest: 4199.5563243 (139)\ttotal: 1.42s\tremaining: 8.71s\n",
      "140:\tlearn: 2271.9638272\ttest: 4191.1706414\tbest: 4191.1706414 (140)\ttotal: 1.43s\tremaining: 8.7s\n",
      "141:\tlearn: 2268.9676705\ttest: 4187.6857956\tbest: 4187.6857956 (141)\ttotal: 1.44s\tremaining: 8.68s\n",
      "142:\tlearn: 2265.9395770\ttest: 4184.4991227\tbest: 4184.4991227 (142)\ttotal: 1.45s\tremaining: 8.67s\n",
      "143:\tlearn: 2262.9500189\ttest: 4177.0020026\tbest: 4177.0020026 (143)\ttotal: 1.46s\tremaining: 8.65s\n",
      "144:\tlearn: 2259.9884885\ttest: 4168.8888567\tbest: 4168.8888567 (144)\ttotal: 1.47s\tremaining: 8.64s\n",
      "145:\tlearn: 2257.1055665\ttest: 4165.5140250\tbest: 4165.5140250 (145)\ttotal: 1.48s\tremaining: 8.64s\n",
      "146:\tlearn: 2254.2114863\ttest: 4157.5442566\tbest: 4157.5442566 (146)\ttotal: 1.49s\tremaining: 8.63s\n",
      "147:\tlearn: 2251.4276622\ttest: 4151.2127590\tbest: 4151.2127590 (147)\ttotal: 1.5s\tremaining: 8.63s\n",
      "148:\tlearn: 2248.5389655\ttest: 4147.9795771\tbest: 4147.9795771 (148)\ttotal: 1.51s\tremaining: 8.62s\n",
      "149:\tlearn: 2245.6994672\ttest: 4145.0938435\tbest: 4145.0938435 (149)\ttotal: 1.52s\tremaining: 8.61s\n",
      "150:\tlearn: 2242.8991337\ttest: 4142.1065250\tbest: 4142.1065250 (150)\ttotal: 1.53s\tremaining: 8.6s\n",
      "151:\tlearn: 2240.1222399\ttest: 4134.3922838\tbest: 4134.3922838 (151)\ttotal: 1.54s\tremaining: 8.6s\n",
      "152:\tlearn: 2237.3793281\ttest: 4131.1669922\tbest: 4131.1669922 (152)\ttotal: 1.55s\tremaining: 8.59s\n",
      "153:\tlearn: 2234.6876900\ttest: 4127.9869866\tbest: 4127.9869866 (153)\ttotal: 1.56s\tremaining: 8.58s\n",
      "154:\tlearn: 2232.0146042\ttest: 4121.6143957\tbest: 4121.6143957 (154)\ttotal: 1.57s\tremaining: 8.56s\n",
      "155:\tlearn: 2229.4070381\ttest: 4118.5042250\tbest: 4118.5042250 (155)\ttotal: 1.58s\tremaining: 8.54s\n",
      "156:\tlearn: 2226.7619636\ttest: 4115.6500912\tbest: 4115.6500912 (156)\ttotal: 1.59s\tremaining: 8.53s\n",
      "157:\tlearn: 2224.1247864\ttest: 4108.3786008\tbest: 4108.3786008 (157)\ttotal: 1.6s\tremaining: 8.52s\n",
      "158:\tlearn: 2221.5284919\ttest: 4101.0588693\tbest: 4101.0588693 (158)\ttotal: 1.61s\tremaining: 8.51s\n",
      "159:\tlearn: 2219.0219247\ttest: 4097.1234902\tbest: 4097.1234902 (159)\ttotal: 1.62s\tremaining: 8.5s\n",
      "160:\tlearn: 2216.4618670\ttest: 4094.4716866\tbest: 4094.4716866 (160)\ttotal: 1.63s\tremaining: 8.49s\n",
      "161:\tlearn: 2213.9733357\ttest: 4091.5626152\tbest: 4091.5626152 (161)\ttotal: 1.64s\tremaining: 8.48s\n",
      "162:\tlearn: 2211.5404954\ttest: 4086.1358562\tbest: 4086.1358562 (162)\ttotal: 1.65s\tremaining: 8.46s\n",
      "163:\tlearn: 2209.1311295\ttest: 4083.0078228\tbest: 4083.0078228 (163)\ttotal: 1.66s\tremaining: 8.46s\n",
      "164:\tlearn: 2206.7171191\ttest: 4079.7753787\tbest: 4079.7753787 (164)\ttotal: 1.67s\tremaining: 8.45s\n",
      "165:\tlearn: 2204.2827434\ttest: 4077.2262991\tbest: 4077.2262991 (165)\ttotal: 1.68s\tremaining: 8.44s\n",
      "166:\tlearn: 2201.9524399\ttest: 4074.4862569\tbest: 4074.4862569 (166)\ttotal: 1.69s\tremaining: 8.43s\n",
      "167:\tlearn: 2199.5166193\ttest: 4067.5244917\tbest: 4067.5244917 (167)\ttotal: 1.7s\tremaining: 8.41s\n",
      "168:\tlearn: 2197.1269653\ttest: 4060.6618083\tbest: 4060.6618083 (168)\ttotal: 1.71s\tremaining: 8.41s\n",
      "169:\tlearn: 2194.7881051\ttest: 4057.7017611\tbest: 4057.7017611 (169)\ttotal: 1.72s\tremaining: 8.4s\n",
      "170:\tlearn: 2192.4540048\ttest: 4050.9602714\tbest: 4050.9602714 (170)\ttotal: 1.73s\tremaining: 8.38s\n",
      "171:\tlearn: 2190.1420886\ttest: 4048.5177981\tbest: 4048.5177981 (171)\ttotal: 1.74s\tremaining: 8.37s\n",
      "172:\tlearn: 2187.8931608\ttest: 4045.7677908\tbest: 4045.7677908 (172)\ttotal: 1.75s\tremaining: 8.36s\n",
      "173:\tlearn: 2185.6200862\ttest: 4039.1631444\tbest: 4039.1631444 (173)\ttotal: 1.76s\tremaining: 8.35s\n",
      "174:\tlearn: 2183.4751322\ttest: 4036.4248369\tbest: 4036.4248369 (174)\ttotal: 1.77s\tremaining: 8.34s\n",
      "175:\tlearn: 2181.2553627\ttest: 4029.9385579\tbest: 4029.9385579 (175)\ttotal: 1.78s\tremaining: 8.33s\n",
      "176:\tlearn: 2179.0472872\ttest: 4027.7088164\tbest: 4027.7088164 (176)\ttotal: 1.79s\tremaining: 8.32s\n",
      "177:\tlearn: 2176.8960717\ttest: 4023.0226852\tbest: 4023.0226852 (177)\ttotal: 1.8s\tremaining: 8.31s\n",
      "178:\tlearn: 2174.7690800\ttest: 4020.3955170\tbest: 4020.3955170 (178)\ttotal: 1.81s\tremaining: 8.3s\n",
      "179:\tlearn: 2172.6373145\ttest: 4014.3439655\tbest: 4014.3439655 (179)\ttotal: 1.82s\tremaining: 8.28s\n",
      "180:\tlearn: 2170.5007611\ttest: 4012.0517082\tbest: 4012.0517082 (180)\ttotal: 1.83s\tremaining: 8.27s\n"
     ]
    },
    {
     "name": "stdout",
     "output_type": "stream",
     "text": [
      "181:\tlearn: 2168.4050365\ttest: 4009.7914948\tbest: 4009.7914948 (181)\ttotal: 1.84s\tremaining: 8.27s\n",
      "182:\tlearn: 2166.3876186\ttest: 4005.1247983\tbest: 4005.1247983 (182)\ttotal: 1.85s\tremaining: 8.26s\n",
      "183:\tlearn: 2164.3263868\ttest: 3998.9940089\tbest: 3998.9940089 (183)\ttotal: 1.86s\tremaining: 8.25s\n",
      "184:\tlearn: 2162.3315588\ttest: 3996.4139980\tbest: 3996.4139980 (184)\ttotal: 1.87s\tremaining: 8.24s\n",
      "185:\tlearn: 2160.3202714\ttest: 3990.3952200\tbest: 3990.3952200 (185)\ttotal: 1.88s\tremaining: 8.23s\n",
      "186:\tlearn: 2158.2996315\ttest: 3988.3204226\tbest: 3988.3204226 (186)\ttotal: 1.89s\tremaining: 8.21s\n",
      "187:\tlearn: 2156.3586738\ttest: 3985.9639257\tbest: 3985.9639257 (187)\ttotal: 1.9s\tremaining: 8.2s\n",
      "188:\tlearn: 2154.3991384\ttest: 3980.0642295\tbest: 3980.0642295 (188)\ttotal: 1.91s\tremaining: 8.2s\n",
      "189:\tlearn: 2152.4742244\ttest: 3977.6402971\tbest: 3977.6402971 (189)\ttotal: 1.92s\tremaining: 8.19s\n",
      "190:\tlearn: 2150.5765200\ttest: 3974.9739583\tbest: 3974.9739583 (190)\ttotal: 1.93s\tremaining: 8.17s\n",
      "191:\tlearn: 2148.6521006\ttest: 3972.9746777\tbest: 3972.9746777 (191)\ttotal: 1.94s\tremaining: 8.16s\n",
      "192:\tlearn: 2146.7563565\ttest: 3967.2223420\tbest: 3967.2223420 (192)\ttotal: 1.95s\tremaining: 8.15s\n",
      "193:\tlearn: 2144.9214261\ttest: 3964.6233068\tbest: 3964.6233068 (193)\ttotal: 1.96s\tremaining: 8.14s\n",
      "194:\tlearn: 2143.0530530\ttest: 3962.6695485\tbest: 3962.6695485 (194)\ttotal: 1.97s\tremaining: 8.12s\n",
      "195:\tlearn: 2141.2556964\ttest: 3960.3299063\tbest: 3960.3299063 (195)\ttotal: 1.98s\tremaining: 8.12s\n",
      "196:\tlearn: 2139.4381337\ttest: 3958.4159675\tbest: 3958.4159675 (196)\ttotal: 1.99s\tremaining: 8.1s\n",
      "197:\tlearn: 2137.6792097\ttest: 3954.1935263\tbest: 3954.1935263 (197)\ttotal: 2s\tremaining: 8.09s\n",
      "198:\tlearn: 2135.8721836\ttest: 3948.6458378\tbest: 3948.6458378 (198)\ttotal: 2.01s\tremaining: 8.08s\n",
      "199:\tlearn: 2134.1124031\ttest: 3946.1759438\tbest: 3946.1759438 (199)\ttotal: 2.02s\tremaining: 8.07s\n",
      "200:\tlearn: 2132.3487569\ttest: 3940.7270922\tbest: 3940.7270922 (200)\ttotal: 2.03s\tremaining: 8.06s\n",
      "201:\tlearn: 2130.6563295\ttest: 3938.6546257\tbest: 3938.6546257 (201)\ttotal: 2.04s\tremaining: 8.05s\n",
      "202:\tlearn: 2128.9594803\ttest: 3934.7500617\tbest: 3934.7500617 (202)\ttotal: 2.05s\tremaining: 8.04s\n",
      "203:\tlearn: 2127.3423165\ttest: 3930.8221088\tbest: 3930.8221088 (203)\ttotal: 2.06s\tremaining: 8.03s\n",
      "204:\tlearn: 2125.6310471\ttest: 3929.0024631\tbest: 3929.0024631 (204)\ttotal: 2.07s\tremaining: 8.02s\n",
      "205:\tlearn: 2123.9837067\ttest: 3926.8213954\tbest: 3926.8213954 (205)\ttotal: 2.08s\tremaining: 8.01s\n",
      "206:\tlearn: 2122.3203189\ttest: 3924.9380595\tbest: 3924.9380595 (206)\ttotal: 2.09s\tremaining: 8s\n",
      "207:\tlearn: 2120.7176153\ttest: 3922.8382976\tbest: 3922.8382976 (207)\ttotal: 2.1s\tremaining: 7.99s\n",
      "208:\tlearn: 2119.0602738\ttest: 3917.6375051\tbest: 3917.6375051 (208)\ttotal: 2.11s\tremaining: 7.98s\n",
      "209:\tlearn: 2117.4345553\ttest: 3912.5095216\tbest: 3912.5095216 (209)\ttotal: 2.12s\tremaining: 7.96s\n",
      "210:\tlearn: 2115.8536888\ttest: 3910.3202113\tbest: 3910.3202113 (210)\ttotal: 2.13s\tremaining: 7.96s\n",
      "211:\tlearn: 2114.2544916\ttest: 3908.5935554\tbest: 3908.5935554 (211)\ttotal: 2.14s\tremaining: 7.95s\n",
      "212:\tlearn: 2112.7152005\ttest: 3906.4797412\tbest: 3906.4797412 (212)\ttotal: 2.15s\tremaining: 7.94s\n",
      "213:\tlearn: 2111.1422124\ttest: 3901.4756530\tbest: 3901.4756530 (213)\ttotal: 2.16s\tremaining: 7.94s\n",
      "214:\tlearn: 2109.5915582\ttest: 3899.7893291\tbest: 3899.7893291 (214)\ttotal: 2.17s\tremaining: 7.92s\n",
      "215:\tlearn: 2108.0861452\ttest: 3897.8445838\tbest: 3897.8445838 (215)\ttotal: 2.18s\tremaining: 7.92s\n",
      "216:\tlearn: 2106.6159660\ttest: 3895.8015203\tbest: 3895.8015203 (216)\ttotal: 2.19s\tremaining: 7.91s\n",
      "217:\tlearn: 2105.1747610\ttest: 3891.8459129\tbest: 3891.8459129 (217)\ttotal: 2.2s\tremaining: 7.9s\n",
      "218:\tlearn: 2103.6727476\ttest: 3887.0097050\tbest: 3887.0097050 (218)\ttotal: 2.21s\tremaining: 7.88s\n",
      "219:\tlearn: 2102.1944747\ttest: 3885.2915863\tbest: 3885.2915863 (219)\ttotal: 2.22s\tremaining: 7.88s\n",
      "220:\tlearn: 2100.7373200\ttest: 3883.6836065\tbest: 3883.6836065 (220)\ttotal: 2.23s\tremaining: 7.87s\n",
      "221:\tlearn: 2099.2731368\ttest: 3878.9386114\tbest: 3878.9386114 (221)\ttotal: 2.24s\tremaining: 7.87s\n",
      "222:\tlearn: 2097.8594458\ttest: 3876.0311331\tbest: 3876.0311331 (222)\ttotal: 2.26s\tremaining: 7.86s\n",
      "223:\tlearn: 2096.5000310\ttest: 3873.5853201\tbest: 3873.5853201 (223)\ttotal: 2.27s\tremaining: 7.85s\n",
      "224:\tlearn: 2095.0960802\ttest: 3872.0244112\tbest: 3872.0244112 (224)\ttotal: 2.28s\tremaining: 7.84s\n",
      "225:\tlearn: 2093.6944279\ttest: 3867.6059718\tbest: 3867.6059718 (225)\ttotal: 2.29s\tremaining: 7.83s\n",
      "226:\tlearn: 2092.3258229\ttest: 3865.6564069\tbest: 3865.6564069 (226)\ttotal: 2.3s\tremaining: 7.82s\n",
      "227:\tlearn: 2090.9492743\ttest: 3861.1204690\tbest: 3861.1204690 (227)\ttotal: 2.31s\tremaining: 7.82s\n",
      "228:\tlearn: 2089.5995807\ttest: 3856.6478264\tbest: 3856.6478264 (228)\ttotal: 2.32s\tremaining: 7.8s\n",
      "229:\tlearn: 2088.2521511\ttest: 3855.1323409\tbest: 3855.1323409 (229)\ttotal: 2.33s\tremaining: 7.8s\n",
      "230:\tlearn: 2086.9458834\ttest: 3851.1492897\tbest: 3851.1492897 (230)\ttotal: 2.34s\tremaining: 7.79s\n",
      "231:\tlearn: 2085.6180490\ttest: 3849.6571492\tbest: 3849.6571492 (231)\ttotal: 2.35s\tremaining: 7.78s\n",
      "232:\tlearn: 2084.3142829\ttest: 3847.8771435\tbest: 3847.8771435 (232)\ttotal: 2.36s\tremaining: 7.77s\n",
      "233:\tlearn: 2083.0274434\ttest: 3843.5580882\tbest: 3843.5580882 (233)\ttotal: 2.37s\tremaining: 7.77s\n",
      "234:\tlearn: 2081.7585732\ttest: 3841.8603402\tbest: 3841.8603402 (234)\ttotal: 2.38s\tremaining: 7.76s\n",
      "235:\tlearn: 2080.5025334\ttest: 3837.6164007\tbest: 3837.6164007 (235)\ttotal: 2.4s\tremaining: 7.75s\n",
      "236:\tlearn: 2079.2447224\ttest: 3835.9339435\tbest: 3835.9339435 (236)\ttotal: 2.4s\tremaining: 7.74s\n",
      "237:\tlearn: 2077.9997705\ttest: 3834.5118600\tbest: 3834.5118600 (237)\ttotal: 2.42s\tremaining: 7.74s\n",
      "238:\tlearn: 2076.7666874\ttest: 3832.8907514\tbest: 3832.8907514 (238)\ttotal: 2.43s\tremaining: 7.73s\n",
      "239:\tlearn: 2075.5833609\ttest: 3831.3423123\tbest: 3831.3423123 (239)\ttotal: 2.44s\tremaining: 7.72s\n",
      "240:\tlearn: 2074.4036443\ttest: 3829.4862653\tbest: 3829.4862653 (240)\ttotal: 2.45s\tremaining: 7.71s\n",
      "241:\tlearn: 2073.2391648\ttest: 3827.8923479\tbest: 3827.8923479 (241)\ttotal: 2.46s\tremaining: 7.71s\n",
      "242:\tlearn: 2072.0368902\ttest: 3823.4289019\tbest: 3823.4289019 (242)\ttotal: 2.47s\tremaining: 7.69s\n",
      "243:\tlearn: 2070.8452132\ttest: 3822.0541653\tbest: 3822.0541653 (243)\ttotal: 2.48s\tremaining: 7.68s\n",
      "244:\tlearn: 2069.6717244\ttest: 3818.0166422\tbest: 3818.0166422 (244)\ttotal: 2.49s\tremaining: 7.67s\n",
      "245:\tlearn: 2068.5063904\ttest: 3816.6650735\tbest: 3816.6650735 (245)\ttotal: 2.5s\tremaining: 7.66s\n",
      "246:\tlearn: 2067.3543165\ttest: 3812.3355583\tbest: 3812.3355583 (246)\ttotal: 2.51s\tremaining: 7.65s\n",
      "247:\tlearn: 2066.2275250\ttest: 3810.7113968\tbest: 3810.7113968 (247)\ttotal: 2.52s\tremaining: 7.63s\n",
      "248:\tlearn: 2065.1126917\ttest: 3809.2096770\tbest: 3809.2096770 (248)\ttotal: 2.53s\tremaining: 7.62s\n",
      "249:\tlearn: 2064.0292151\ttest: 3806.3048358\tbest: 3806.3048358 (249)\ttotal: 2.54s\tremaining: 7.61s\n",
      "250:\tlearn: 2062.9431284\ttest: 3804.8475891\tbest: 3804.8475891 (250)\ttotal: 2.54s\tremaining: 7.59s\n",
      "251:\tlearn: 2061.8446710\ttest: 3800.9986052\tbest: 3800.9986052 (251)\ttotal: 2.56s\tremaining: 7.58s\n",
      "252:\tlearn: 2060.7435850\ttest: 3799.7053498\tbest: 3799.7053498 (252)\ttotal: 2.56s\tremaining: 7.57s\n",
      "253:\tlearn: 2059.6617849\ttest: 3795.5669281\tbest: 3795.5669281 (253)\ttotal: 2.58s\tremaining: 7.57s\n",
      "254:\tlearn: 2058.6141864\ttest: 3794.3557517\tbest: 3794.3557517 (254)\ttotal: 2.59s\tremaining: 7.57s\n",
      "255:\tlearn: 2057.5460460\ttest: 3793.1777216\tbest: 3793.1777216 (255)\ttotal: 2.6s\tremaining: 7.56s\n",
      "256:\tlearn: 2056.4910000\ttest: 3789.1139954\tbest: 3789.1139954 (256)\ttotal: 2.61s\tremaining: 7.54s\n",
      "257:\tlearn: 2055.4799088\ttest: 3787.9217429\tbest: 3787.9217429 (257)\ttotal: 2.62s\tremaining: 7.54s\n",
      "258:\tlearn: 2054.4613747\ttest: 3786.5211477\tbest: 3786.5211477 (258)\ttotal: 2.63s\tremaining: 7.52s\n",
      "259:\tlearn: 2053.4596502\ttest: 3784.7639602\tbest: 3784.7639602 (259)\ttotal: 2.64s\tremaining: 7.51s\n",
      "260:\tlearn: 2052.4415951\ttest: 3780.8001596\tbest: 3780.8001596 (260)\ttotal: 2.65s\tremaining: 7.5s\n",
      "261:\tlearn: 2051.4472080\ttest: 3777.2170003\tbest: 3777.2170003 (261)\ttotal: 2.66s\tremaining: 7.5s\n",
      "262:\tlearn: 2050.4834820\ttest: 3775.5097334\tbest: 3775.5097334 (262)\ttotal: 2.67s\tremaining: 7.48s\n",
      "263:\tlearn: 2049.4725086\ttest: 3774.3809556\tbest: 3774.3809556 (263)\ttotal: 2.68s\tremaining: 7.48s\n",
      "264:\tlearn: 2048.4827323\ttest: 3773.1861547\tbest: 3773.1861547 (264)\ttotal: 2.69s\tremaining: 7.46s\n",
      "265:\tlearn: 2047.5158973\ttest: 3769.3626534\tbest: 3769.3626534 (265)\ttotal: 2.7s\tremaining: 7.45s\n",
      "266:\tlearn: 2046.5746650\ttest: 3767.9653363\tbest: 3767.9653363 (266)\ttotal: 2.71s\tremaining: 7.44s\n",
      "267:\tlearn: 2045.6365444\ttest: 3764.5261092\tbest: 3764.5261092 (267)\ttotal: 2.72s\tremaining: 7.43s\n",
      "268:\tlearn: 2044.7008534\ttest: 3763.2204440\tbest: 3763.2204440 (268)\ttotal: 2.73s\tremaining: 7.42s\n"
     ]
    },
    {
     "name": "stdout",
     "output_type": "stream",
     "text": [
      "269:\tlearn: 2043.7760647\ttest: 3761.9317286\tbest: 3761.9317286 (269)\ttotal: 2.74s\tremaining: 7.41s\n",
      "270:\tlearn: 2042.8317353\ttest: 3760.8585602\tbest: 3760.8585602 (270)\ttotal: 2.75s\tremaining: 7.4s\n",
      "271:\tlearn: 2041.9333643\ttest: 3759.5954047\tbest: 3759.5954047 (271)\ttotal: 2.76s\tremaining: 7.39s\n",
      "272:\tlearn: 2041.0158026\ttest: 3758.5434669\tbest: 3758.5434669 (272)\ttotal: 2.77s\tremaining: 7.38s\n",
      "273:\tlearn: 2040.1585960\ttest: 3756.8265937\tbest: 3756.8265937 (273)\ttotal: 2.78s\tremaining: 7.37s\n",
      "274:\tlearn: 2039.2545740\ttest: 3753.0567009\tbest: 3753.0567009 (274)\ttotal: 2.79s\tremaining: 7.36s\n",
      "275:\tlearn: 2038.3739054\ttest: 3749.9018572\tbest: 3749.9018572 (275)\ttotal: 2.8s\tremaining: 7.35s\n",
      "276:\tlearn: 2037.4853938\ttest: 3748.8768875\tbest: 3748.8768875 (276)\ttotal: 2.81s\tremaining: 7.34s\n",
      "277:\tlearn: 2036.6248636\ttest: 3747.8304259\tbest: 3747.8304259 (277)\ttotal: 2.82s\tremaining: 7.33s\n",
      "278:\tlearn: 2035.7676466\ttest: 3745.3392257\tbest: 3745.3392257 (278)\ttotal: 2.83s\tremaining: 7.32s\n",
      "279:\tlearn: 2034.9420243\ttest: 3742.1914967\tbest: 3742.1914967 (279)\ttotal: 2.84s\tremaining: 7.3s\n",
      "280:\tlearn: 2034.1131921\ttest: 3740.6593938\tbest: 3740.6593938 (280)\ttotal: 2.85s\tremaining: 7.29s\n",
      "281:\tlearn: 2033.2857476\ttest: 3738.7635822\tbest: 3738.7635822 (281)\ttotal: 2.86s\tremaining: 7.28s\n",
      "282:\tlearn: 2032.4857025\ttest: 3737.6064410\tbest: 3737.6064410 (282)\ttotal: 2.87s\tremaining: 7.27s\n",
      "283:\tlearn: 2031.6664605\ttest: 3733.9616697\tbest: 3733.9616697 (283)\ttotal: 2.88s\tremaining: 7.25s\n",
      "284:\tlearn: 2030.8664686\ttest: 3732.8409985\tbest: 3732.8409985 (284)\ttotal: 2.89s\tremaining: 7.24s\n",
      "285:\tlearn: 2030.0341287\ttest: 3731.9566997\tbest: 3731.9566997 (285)\ttotal: 2.9s\tremaining: 7.24s\n",
      "286:\tlearn: 2029.2257701\ttest: 3728.5849700\tbest: 3728.5849700 (286)\ttotal: 2.91s\tremaining: 7.22s\n",
      "287:\tlearn: 2028.4115540\ttest: 3727.6256464\tbest: 3727.6256464 (287)\ttotal: 2.92s\tremaining: 7.21s\n",
      "288:\tlearn: 2027.6493859\ttest: 3726.5154932\tbest: 3726.5154932 (288)\ttotal: 2.93s\tremaining: 7.21s\n",
      "289:\tlearn: 2026.8695049\ttest: 3722.9926324\tbest: 3722.9926324 (289)\ttotal: 2.94s\tremaining: 7.2s\n",
      "290:\tlearn: 2026.1097585\ttest: 3721.8794639\tbest: 3721.8794639 (290)\ttotal: 2.95s\tremaining: 7.18s\n",
      "291:\tlearn: 2025.3232790\ttest: 3721.0320216\tbest: 3721.0320216 (291)\ttotal: 2.96s\tremaining: 7.18s\n",
      "292:\tlearn: 2024.5884859\ttest: 3719.9214092\tbest: 3719.9214092 (292)\ttotal: 2.97s\tremaining: 7.17s\n",
      "293:\tlearn: 2023.8432552\ttest: 3718.4998543\tbest: 3718.4998543 (293)\ttotal: 2.98s\tremaining: 7.16s\n",
      "294:\tlearn: 2023.0851472\ttest: 3717.5190595\tbest: 3717.5190595 (294)\ttotal: 2.99s\tremaining: 7.15s\n",
      "295:\tlearn: 2022.3437577\ttest: 3714.6612300\tbest: 3714.6612300 (295)\ttotal: 3s\tremaining: 7.14s\n",
      "296:\tlearn: 2021.5953854\ttest: 3713.8441235\tbest: 3713.8441235 (296)\ttotal: 3.01s\tremaining: 7.13s\n",
      "297:\tlearn: 2020.8522919\ttest: 3710.5538597\tbest: 3710.5538597 (297)\ttotal: 3.02s\tremaining: 7.12s\n",
      "298:\tlearn: 2020.1354414\ttest: 3708.1618354\tbest: 3708.1618354 (298)\ttotal: 3.03s\tremaining: 7.11s\n",
      "299:\tlearn: 2019.4257496\ttest: 3706.3229596\tbest: 3706.3229596 (299)\ttotal: 3.04s\tremaining: 7.1s\n",
      "300:\tlearn: 2018.7319146\ttest: 3704.9714136\tbest: 3704.9714136 (300)\ttotal: 3.05s\tremaining: 7.08s\n",
      "301:\tlearn: 2018.0083993\ttest: 3704.1760300\tbest: 3704.1760300 (301)\ttotal: 3.06s\tremaining: 7.08s\n",
      "302:\tlearn: 2017.3025973\ttest: 3703.2457408\tbest: 3703.2457408 (302)\ttotal: 3.07s\tremaining: 7.07s\n",
      "303:\tlearn: 2016.6002602\ttest: 3700.0767363\tbest: 3700.0767363 (303)\ttotal: 3.08s\tremaining: 7.06s\n",
      "304:\tlearn: 2015.9104421\ttest: 3699.1335331\tbest: 3699.1335331 (304)\ttotal: 3.09s\tremaining: 7.05s\n",
      "305:\tlearn: 2015.2417453\ttest: 3697.7847973\tbest: 3697.7847973 (305)\ttotal: 3.1s\tremaining: 7.04s\n",
      "306:\tlearn: 2014.5537843\ttest: 3697.0184780\tbest: 3697.0184780 (306)\ttotal: 3.12s\tremaining: 7.03s\n",
      "307:\tlearn: 2013.8795264\ttest: 3696.2623741\tbest: 3696.2623741 (307)\ttotal: 3.13s\tremaining: 7.02s\n",
      "308:\tlearn: 2013.2009760\ttest: 3693.2733831\tbest: 3693.2733831 (308)\ttotal: 3.14s\tremaining: 7.02s\n",
      "309:\tlearn: 2012.5557868\ttest: 3692.4309004\tbest: 3692.4309004 (309)\ttotal: 3.15s\tremaining: 7.01s\n",
      "310:\tlearn: 2011.9164364\ttest: 3691.1531965\tbest: 3691.1531965 (310)\ttotal: 3.16s\tremaining: 7s\n",
      "311:\tlearn: 2011.2738589\ttest: 3690.3168191\tbest: 3690.3168191 (311)\ttotal: 3.17s\tremaining: 6.99s\n",
      "312:\tlearn: 2010.6358459\ttest: 3689.3280249\tbest: 3689.3280249 (312)\ttotal: 3.18s\tremaining: 6.98s\n",
      "313:\tlearn: 2009.9813378\ttest: 3686.3094355\tbest: 3686.3094355 (313)\ttotal: 3.19s\tremaining: 6.97s\n",
      "314:\tlearn: 2009.3439622\ttest: 3685.5843778\tbest: 3685.5843778 (314)\ttotal: 3.2s\tremaining: 6.96s\n",
      "315:\tlearn: 2008.7223378\ttest: 3684.7096783\tbest: 3684.7096783 (315)\ttotal: 3.21s\tremaining: 6.95s\n",
      "316:\tlearn: 2008.0840966\ttest: 3681.7416648\tbest: 3681.7416648 (316)\ttotal: 3.22s\tremaining: 6.95s\n",
      "317:\tlearn: 2007.4599847\ttest: 3678.7153250\tbest: 3678.7153250 (317)\ttotal: 3.23s\tremaining: 6.94s\n",
      "318:\tlearn: 2006.8559598\ttest: 3677.7662619\tbest: 3677.7662619 (318)\ttotal: 3.25s\tremaining: 6.93s\n",
      "319:\tlearn: 2006.2603809\ttest: 3676.4196087\tbest: 3676.4196087 (319)\ttotal: 3.25s\tremaining: 6.92s\n",
      "320:\tlearn: 2005.6684737\ttest: 3675.5759347\tbest: 3675.5759347 (320)\ttotal: 3.27s\tremaining: 6.91s\n",
      "321:\tlearn: 2005.0691588\ttest: 3674.8086745\tbest: 3674.8086745 (321)\ttotal: 3.28s\tremaining: 6.9s\n",
      "322:\tlearn: 2004.4658138\ttest: 3672.0510684\tbest: 3672.0510684 (322)\ttotal: 3.29s\tremaining: 6.89s\n",
      "323:\tlearn: 2003.8743104\ttest: 3669.1313154\tbest: 3669.1313154 (323)\ttotal: 3.3s\tremaining: 6.88s\n",
      "324:\tlearn: 2003.3063356\ttest: 3667.9567968\tbest: 3667.9567968 (324)\ttotal: 3.31s\tremaining: 6.87s\n",
      "325:\tlearn: 2002.7184609\ttest: 3667.2746539\tbest: 3667.2746539 (325)\ttotal: 3.32s\tremaining: 6.86s\n",
      "326:\tlearn: 2002.1420967\ttest: 3666.6020770\tbest: 3666.6020770 (326)\ttotal: 3.33s\tremaining: 6.85s\n",
      "327:\tlearn: 2001.5690726\ttest: 3663.9387415\tbest: 3663.9387415 (327)\ttotal: 3.34s\tremaining: 6.84s\n",
      "328:\tlearn: 2001.0301353\ttest: 3663.0062761\tbest: 3663.0062761 (328)\ttotal: 3.35s\tremaining: 6.83s\n",
      "329:\tlearn: 2000.4944438\ttest: 3662.2729019\tbest: 3662.2729019 (329)\ttotal: 3.36s\tremaining: 6.82s\n",
      "330:\tlearn: 1999.9361525\ttest: 3659.4647023\tbest: 3659.4647023 (330)\ttotal: 3.37s\tremaining: 6.81s\n",
      "331:\tlearn: 1999.4033266\ttest: 3658.2948777\tbest: 3658.2948777 (331)\ttotal: 3.38s\tremaining: 6.8s\n",
      "332:\tlearn: 1998.8734013\ttest: 3656.4264469\tbest: 3656.4264469 (332)\ttotal: 3.39s\tremaining: 6.79s\n",
      "333:\tlearn: 1998.3299913\ttest: 3655.5716345\tbest: 3655.5716345 (333)\ttotal: 3.4s\tremaining: 6.78s\n",
      "334:\tlearn: 1997.7865506\ttest: 3654.9629241\tbest: 3654.9629241 (334)\ttotal: 3.41s\tremaining: 6.77s\n",
      "335:\tlearn: 1997.2568990\ttest: 3654.1864729\tbest: 3654.1864729 (335)\ttotal: 3.42s\tremaining: 6.76s\n",
      "336:\tlearn: 1996.7228895\ttest: 3651.5549344\tbest: 3651.5549344 (336)\ttotal: 3.43s\tremaining: 6.75s\n",
      "337:\tlearn: 1996.2079547\ttest: 3650.0870242\tbest: 3650.0870242 (337)\ttotal: 3.44s\tremaining: 6.74s\n",
      "338:\tlearn: 1995.6935902\ttest: 3649.5053327\tbest: 3649.5053327 (338)\ttotal: 3.45s\tremaining: 6.73s\n",
      "339:\tlearn: 1995.1853068\ttest: 3648.6705589\tbest: 3648.6705589 (339)\ttotal: 3.46s\tremaining: 6.72s\n",
      "340:\tlearn: 1994.6646979\ttest: 3648.0830014\tbest: 3648.0830014 (340)\ttotal: 3.47s\tremaining: 6.71s\n",
      "341:\tlearn: 1994.1389092\ttest: 3647.4552204\tbest: 3647.4552204 (341)\ttotal: 3.48s\tremaining: 6.7s\n",
      "342:\tlearn: 1993.6429011\ttest: 3646.3837561\tbest: 3646.3837561 (342)\ttotal: 3.49s\tremaining: 6.69s\n",
      "343:\tlearn: 1993.1590922\ttest: 3645.8250748\tbest: 3645.8250748 (343)\ttotal: 3.5s\tremaining: 6.68s\n",
      "344:\tlearn: 1992.6594359\ttest: 3645.2542490\tbest: 3645.2542490 (344)\ttotal: 3.51s\tremaining: 6.67s\n",
      "345:\tlearn: 1992.1520222\ttest: 3642.7098442\tbest: 3642.7098442 (345)\ttotal: 3.52s\tremaining: 6.66s\n",
      "346:\tlearn: 1991.6643278\ttest: 3641.9718693\tbest: 3641.9718693 (346)\ttotal: 3.53s\tremaining: 6.65s\n",
      "347:\tlearn: 1991.1713449\ttest: 3641.1209840\tbest: 3641.1209840 (347)\ttotal: 3.54s\tremaining: 6.63s\n",
      "348:\tlearn: 1990.6977457\ttest: 3640.0822133\tbest: 3640.0822133 (348)\ttotal: 3.55s\tremaining: 6.62s\n",
      "349:\tlearn: 1990.2362569\ttest: 3638.0135511\tbest: 3638.0135511 (349)\ttotal: 3.56s\tremaining: 6.61s\n",
      "350:\tlearn: 1989.7393935\ttest: 3637.4109018\tbest: 3637.4109018 (350)\ttotal: 3.57s\tremaining: 6.61s\n",
      "351:\tlearn: 1989.2613378\ttest: 3635.0503779\tbest: 3635.0503779 (351)\ttotal: 3.58s\tremaining: 6.6s\n",
      "352:\tlearn: 1988.7881070\ttest: 3632.5330694\tbest: 3632.5330694 (352)\ttotal: 3.59s\tremaining: 6.58s\n",
      "353:\tlearn: 1988.3234692\ttest: 3631.7793779\tbest: 3631.7793779 (353)\ttotal: 3.6s\tremaining: 6.57s\n",
      "354:\tlearn: 1987.8423665\ttest: 3631.1914054\tbest: 3631.1914054 (354)\ttotal: 3.61s\tremaining: 6.57s\n",
      "355:\tlearn: 1987.3753890\ttest: 3630.6716027\tbest: 3630.6716027 (355)\ttotal: 3.62s\tremaining: 6.55s\n",
      "356:\tlearn: 1986.9157186\ttest: 3629.9711166\tbest: 3629.9711166 (356)\ttotal: 3.63s\tremaining: 6.54s\n"
     ]
    },
    {
     "name": "stdout",
     "output_type": "stream",
     "text": [
      "357:\tlearn: 1986.4422822\ttest: 3629.4224068\tbest: 3629.4224068 (357)\ttotal: 3.64s\tremaining: 6.53s\n",
      "358:\tlearn: 1985.9759178\ttest: 3628.8468101\tbest: 3628.8468101 (358)\ttotal: 3.65s\tremaining: 6.52s\n",
      "359:\tlearn: 1985.5187508\ttest: 3628.2792419\tbest: 3628.2792419 (359)\ttotal: 3.66s\tremaining: 6.51s\n",
      "360:\tlearn: 1985.0778578\ttest: 3627.7591508\tbest: 3627.7591508 (360)\ttotal: 3.67s\tremaining: 6.5s\n",
      "361:\tlearn: 1984.6234305\ttest: 3627.2257061\tbest: 3627.2257061 (361)\ttotal: 3.69s\tremaining: 6.5s\n",
      "362:\tlearn: 1984.1877615\ttest: 3626.2443394\tbest: 3626.2443394 (362)\ttotal: 3.7s\tremaining: 6.49s\n",
      "363:\tlearn: 1983.7532938\ttest: 3624.5476287\tbest: 3624.5476287 (363)\ttotal: 3.71s\tremaining: 6.48s\n",
      "364:\tlearn: 1983.3179054\ttest: 3624.0538417\tbest: 3624.0538417 (364)\ttotal: 3.72s\tremaining: 6.46s\n",
      "365:\tlearn: 1982.8824213\ttest: 3623.3795660\tbest: 3623.3795660 (365)\ttotal: 3.73s\tremaining: 6.45s\n",
      "366:\tlearn: 1982.4436558\ttest: 3621.1494977\tbest: 3621.1494977 (366)\ttotal: 3.74s\tremaining: 6.44s\n",
      "367:\tlearn: 1982.0287508\ttest: 3619.9807261\tbest: 3619.9807261 (367)\ttotal: 3.75s\tremaining: 6.43s\n",
      "368:\tlearn: 1981.6059682\ttest: 3619.3209378\tbest: 3619.3209378 (368)\ttotal: 3.75s\tremaining: 6.42s\n",
      "369:\tlearn: 1981.1820327\ttest: 3618.8367754\tbest: 3618.8367754 (369)\ttotal: 3.77s\tremaining: 6.41s\n",
      "370:\tlearn: 1980.7533418\ttest: 3616.5613653\tbest: 3616.5613653 (370)\ttotal: 3.77s\tremaining: 6.4s\n",
      "371:\tlearn: 1980.3262709\ttest: 3616.0520038\tbest: 3616.0520038 (371)\ttotal: 3.79s\tremaining: 6.39s\n",
      "372:\tlearn: 1979.9070825\ttest: 3613.8087437\tbest: 3613.8087437 (372)\ttotal: 3.79s\tremaining: 6.38s\n",
      "373:\tlearn: 1979.4882780\ttest: 3613.3081830\tbest: 3613.3081830 (373)\ttotal: 3.8s\tremaining: 6.37s\n",
      "374:\tlearn: 1979.0572109\ttest: 3612.8308516\tbest: 3612.8308516 (374)\ttotal: 3.81s\tremaining: 6.36s\n",
      "375:\tlearn: 1978.6576145\ttest: 3612.1904709\tbest: 3612.1904709 (375)\ttotal: 3.83s\tremaining: 6.35s\n",
      "376:\tlearn: 1978.2551586\ttest: 3611.4168660\tbest: 3611.4168660 (376)\ttotal: 3.84s\tremaining: 6.34s\n",
      "377:\tlearn: 1977.8616682\ttest: 3610.9382486\tbest: 3610.9382486 (377)\ttotal: 3.85s\tremaining: 6.33s\n",
      "378:\tlearn: 1977.4667392\ttest: 3610.4793845\tbest: 3610.4793845 (378)\ttotal: 3.86s\tremaining: 6.32s\n",
      "379:\tlearn: 1977.0521503\ttest: 3610.0154100\tbest: 3610.0154100 (379)\ttotal: 3.87s\tremaining: 6.31s\n",
      "380:\tlearn: 1976.6577696\ttest: 3609.3872268\tbest: 3609.3872268 (380)\ttotal: 3.88s\tremaining: 6.3s\n",
      "381:\tlearn: 1976.2706485\ttest: 3608.4800611\tbest: 3608.4800611 (381)\ttotal: 3.88s\tremaining: 6.28s\n",
      "382:\tlearn: 1975.8684760\ttest: 3608.0260688\tbest: 3608.0260688 (382)\ttotal: 3.89s\tremaining: 6.27s\n",
      "383:\tlearn: 1975.4663399\ttest: 3605.7629012\tbest: 3605.7629012 (383)\ttotal: 3.9s\tremaining: 6.26s\n",
      "384:\tlearn: 1975.0850846\ttest: 3605.0954519\tbest: 3605.0954519 (384)\ttotal: 3.91s\tremaining: 6.25s\n",
      "385:\tlearn: 1974.7010904\ttest: 3604.6455738\tbest: 3604.6455738 (385)\ttotal: 3.92s\tremaining: 6.24s\n",
      "386:\tlearn: 1974.3088466\ttest: 3602.4181875\tbest: 3602.4181875 (386)\ttotal: 3.93s\tremaining: 6.22s\n",
      "387:\tlearn: 1973.9537934\ttest: 3600.7420681\tbest: 3600.7420681 (387)\ttotal: 3.94s\tremaining: 6.21s\n",
      "388:\tlearn: 1973.5698754\ttest: 3600.2713835\tbest: 3600.2713835 (388)\ttotal: 3.95s\tremaining: 6.2s\n",
      "389:\tlearn: 1973.1993970\ttest: 3599.6077228\tbest: 3599.6077228 (389)\ttotal: 3.96s\tremaining: 6.19s\n",
      "390:\tlearn: 1972.8220313\ttest: 3597.4368834\tbest: 3597.4368834 (390)\ttotal: 3.97s\tremaining: 6.18s\n",
      "391:\tlearn: 1972.4608996\ttest: 3596.7802405\tbest: 3596.7802405 (391)\ttotal: 3.98s\tremaining: 6.17s\n",
      "392:\tlearn: 1972.1055136\ttest: 3596.3696315\tbest: 3596.3696315 (392)\ttotal: 3.99s\tremaining: 6.16s\n"
     ]
    }
   ],
   "source": [
    "reg.fit(X_train, y_train, eval_set=[(X_test, y_test)],early_stopping_rounds=50)"
   ]
  },
  {
   "cell_type": "code",
   "execution_count": null,
   "metadata": {},
   "outputs": [],
   "source": [
    "explainer = shap.TreeExplainer(reg)\n",
    "shap_values = explainer.shap_values(Pool(X_train, y_train))\n",
    "\n",
    "# feature importance plot\n",
    "shap.summary_plot(shap_values[:100], X_train, plot_type=\"bar\")"
   ]
  },
  {
   "cell_type": "code",
   "execution_count": null,
   "metadata": {},
   "outputs": [],
   "source": []
  },
  {
   "cell_type": "code",
   "execution_count": 198,
   "metadata": {},
   "outputs": [
    {
     "name": "stdout",
     "output_type": "stream",
     "text": [
      "Train set shape (70043, 996, 1)\n",
      "Validation set shape (35036, 996, 1)\n"
     ]
    }
   ],
   "source": [
    "X_train_series = X_train.reshape((X_train.shape[0], X_train.shape[1], 1))\n",
    "X_test_series = X_test.reshape((X_test.shape[0], X_test.shape[1], 1))\n",
    "X_holdout_series = X_holdout.reshape((X_holdout.shape[0], X_holdout.shape[1], 1))\n",
    "\n",
    "print('Train set shape', X_train_series.shape)\n",
    "print('Validation set shape', X_test_series.shape)"
   ]
  },
  {
   "cell_type": "code",
   "execution_count": 199,
   "metadata": {},
   "outputs": [],
   "source": [
    "epochs = 40\n",
    "batch = len(X_train_series)\n",
    "lr = 0.0003\n",
    "adam = optimizers.Adam(lr)"
   ]
  },
  {
   "cell_type": "code",
   "execution_count": 262,
   "metadata": {},
   "outputs": [],
   "source": [
    "import keras.backend as K\n",
    "def customLoss(true,pred):\n",
    "    diff = pred - true\n",
    "\n",
    "    greater = K.greater(diff,0)\n",
    "    greater = K.cast(greater, K.floatx()) #0 for lower, 1 for greater\n",
    "    greater = greater + 1                 #1 for lower, 2 for greater\n",
    "\n",
    "    #use some kind of loss here, such as mse or mae, or pick one from keras\n",
    "    #using mse:\n",
    "    return K.mean(greater*K.square(diff))"
   ]
  },
  {
   "cell_type": "code",
   "execution_count": 265,
   "metadata": {},
   "outputs": [
    {
     "name": "stdout",
     "output_type": "stream",
     "text": [
      "Model: \"sequential_10\"\n",
      "_________________________________________________________________\n",
      "Layer (type)                 Output Shape              Param #   \n",
      "=================================================================\n",
      "conv1d_10 (Conv1D)           (None, 995, 64)           192       \n",
      "_________________________________________________________________\n",
      "max_pooling1d_7 (MaxPooling1 (None, 497, 64)           0         \n",
      "_________________________________________________________________\n",
      "flatten_10 (Flatten)         (None, 31808)             0         \n",
      "_________________________________________________________________\n",
      "dense_15 (Dense)             (None, 50)                1590450   \n",
      "_________________________________________________________________\n",
      "dense_16 (Dense)             (None, 1)                 51        \n",
      "=================================================================\n",
      "Total params: 1,590,693\n",
      "Trainable params: 1,590,693\n",
      "Non-trainable params: 0\n",
      "_________________________________________________________________\n"
     ]
    }
   ],
   "source": [
    "reg = Sequential()\n",
    "reg.add(Conv1D(filters=64, kernel_size=2, activation='relu', input_shape=(X_train_series.shape[1], X_train_series.shape[2])))\n",
    "reg.add(MaxPooling1D(pool_size=2))\n",
    "reg.add(Flatten())\n",
    "reg.add(Dense(50, activation='relu'))\n",
    "reg.add(Dense(1))\n",
    "reg.compile(loss=customLoss, optimizer=adam)\n",
    "reg.summary()"
   ]
  },
  {
   "cell_type": "code",
   "execution_count": 266,
   "metadata": {},
   "outputs": [],
   "source": [
    "from keras.callbacks import EarlyStopping\n",
    "\n",
    "early_stopping_monitor = EarlyStopping(\n",
    "    monitor='val_loss',\n",
    "    patience=5,\n",
    "    mode='auto',\n",
    "    baseline=None,\n",
    "    restore_best_weights=True\n",
    ")"
   ]
  },
  {
   "cell_type": "code",
   "execution_count": 267,
   "metadata": {
    "scrolled": true
   },
   "outputs": [
    {
     "name": "stdout",
     "output_type": "stream",
     "text": [
      "Epoch 1/40\n",
      "2189/2189 - 19s - loss: 8026050.5000 - val_loss: 16789246.0000\n",
      "Epoch 2/40\n",
      "2189/2189 - 19s - loss: 6108054.0000 - val_loss: 15239074.0000\n",
      "Epoch 3/40\n",
      "2189/2189 - 19s - loss: 5722920.5000 - val_loss: 14388834.0000\n",
      "Epoch 4/40\n",
      "2189/2189 - 19s - loss: 5472697.0000 - val_loss: 13818405.0000\n",
      "Epoch 5/40\n",
      "2189/2189 - 19s - loss: 5276473.0000 - val_loss: 13549022.0000\n",
      "Epoch 6/40\n",
      "2189/2189 - 19s - loss: 5133059.0000 - val_loss: 13345428.0000\n",
      "Epoch 7/40\n",
      "2189/2189 - 19s - loss: 5031294.0000 - val_loss: 13186520.0000\n",
      "Epoch 8/40\n",
      "2189/2189 - 19s - loss: 4947806.0000 - val_loss: 13091978.0000\n",
      "Epoch 9/40\n",
      "2189/2189 - 19s - loss: 4889403.0000 - val_loss: 13429099.0000\n",
      "Epoch 10/40\n",
      "2189/2189 - 19s - loss: 4830899.0000 - val_loss: 12914678.0000\n",
      "Epoch 11/40\n",
      "2189/2189 - 19s - loss: 4780367.0000 - val_loss: 13028300.0000\n",
      "Epoch 12/40\n",
      "2189/2189 - 19s - loss: 4743930.0000 - val_loss: 12959826.0000\n",
      "Epoch 13/40\n",
      "2189/2189 - 19s - loss: 4698386.0000 - val_loss: 12900839.0000\n",
      "Epoch 14/40\n",
      "2189/2189 - 19s - loss: 4668871.0000 - val_loss: 12730891.0000\n",
      "Epoch 15/40\n",
      "2189/2189 - 19s - loss: 4629242.5000 - val_loss: 13118602.0000\n",
      "Epoch 16/40\n",
      "2189/2189 - 20s - loss: 4604817.5000 - val_loss: 12408604.0000\n",
      "Epoch 17/40\n",
      "2189/2189 - 19s - loss: 4578425.0000 - val_loss: 12758847.0000\n",
      "Epoch 18/40\n",
      "2189/2189 - 19s - loss: 4555897.0000 - val_loss: 12685905.0000\n",
      "Epoch 19/40\n",
      "2189/2189 - 19s - loss: 4535077.5000 - val_loss: 12725940.0000\n",
      "Epoch 20/40\n",
      "2189/2189 - 19s - loss: 4507681.5000 - val_loss: 13088621.0000\n",
      "Epoch 21/40\n",
      "2189/2189 - 19s - loss: 4484074.0000 - val_loss: 12511245.0000\n"
     ]
    }
   ],
   "source": [
    "cnn_history = reg.fit(X_train_series, y_train, validation_data=(X_test_series, y_test), epochs=epochs, verbose=2, callbacks=[early_stopping_monitor])"
   ]
  },
  {
   "cell_type": "code",
   "execution_count": 252,
   "metadata": {},
   "outputs": [],
   "source": [
    "y_pred = reg.predict(X_test_series)"
   ]
  },
  {
   "cell_type": "code",
   "execution_count": null,
   "metadata": {},
   "outputs": [],
   "source": []
  },
  {
   "cell_type": "code",
   "execution_count": 253,
   "metadata": {},
   "outputs": [
    {
     "data": {
      "text/plain": [
       "3062.9835358880005"
      ]
     },
     "execution_count": 253,
     "metadata": {},
     "output_type": "execute_result"
    }
   ],
   "source": [
    "np.sqrt(mean_squared_error(y_test,y_pred))"
   ]
  },
  {
   "cell_type": "code",
   "execution_count": 254,
   "metadata": {},
   "outputs": [
    {
     "data": {
      "text/plain": [
       "2182.0689631959785"
      ]
     },
     "execution_count": 254,
     "metadata": {},
     "output_type": "execute_result"
    }
   ],
   "source": [
    "mean_absolute_error(y_test,y_pred)"
   ]
  },
  {
   "cell_type": "code",
   "execution_count": null,
   "metadata": {},
   "outputs": [],
   "source": []
  },
  {
   "cell_type": "code",
   "execution_count": 255,
   "metadata": {},
   "outputs": [],
   "source": [
    "test_result = series[series.year.isin([2019])].copy()\n",
    "test_result['prediction'] = y_pred"
   ]
  },
  {
   "cell_type": "code",
   "execution_count": 256,
   "metadata": {},
   "outputs": [
    {
     "data": {
      "image/png": "[encoded data removed]",
      "text/plain": [
       "<Figure size 1440x648 with 1 Axes>"
      ]
     },
     "metadata": {},
     "output_type": "display_data"
    },
    {
     "name": "stdout",
     "output_type": "stream",
     "text": [
      "resultant budget:  1436886494.3597412\n",
      "net profit:  436886494.3597412\n",
      "number of short falling:  17488\n",
      "number of panalty:  0\n"
     ]
    }
   ],
   "source": [
    "trading(test_result['Wind(t+18)'], test_result.prediction)"
   ]
  },
  {
   "cell_type": "code",
   "execution_count": null,
   "metadata": {},
   "outputs": [],
   "source": []
  },
  {
   "cell_type": "code",
   "execution_count": 257,
   "metadata": {},
   "outputs": [],
   "source": [
    "y_holdout_pred = reg.predict(X_holdout_series)"
   ]
  },
  {
   "cell_type": "code",
   "execution_count": 258,
   "metadata": {},
   "outputs": [
    {
     "data": {
      "text/plain": [
       "3973.7855826875366"
      ]
     },
     "execution_count": 258,
     "metadata": {},
     "output_type": "execute_result"
    }
   ],
   "source": [
    "np.sqrt(mean_squared_error(y_holdout,y_holdout_pred))"
   ]
  },
  {
   "cell_type": "code",
   "execution_count": 259,
   "metadata": {},
   "outputs": [
    {
     "data": {
      "text/plain": [
       "2868.670825171137"
      ]
     },
     "execution_count": 259,
     "metadata": {},
     "output_type": "execute_result"
    }
   ],
   "source": [
    "mean_absolute_error(y_holdout,y_holdout_pred)"
   ]
  },
  {
   "cell_type": "code",
   "execution_count": 260,
   "metadata": {},
   "outputs": [],
   "source": [
    "holdout_result = series[series.year.isin([2020])].copy()\n",
    "holdout_result['prediction'] = y_holdout_pred"
   ]
  },
  {
   "cell_type": "code",
   "execution_count": 261,
   "metadata": {},
   "outputs": [
    {
     "data": {
      "image/png": "[encoded data removed]",
      "text/plain": [
       "<Figure size 1440x648 with 1 Axes>"
      ]
     },
     "metadata": {},
     "output_type": "display_data"
    },
    {
     "name": "stdout",
     "output_type": "stream",
     "text": [
      "resultant budget:  1232972694.0856934\n",
      "net profit:  232972694.08569336\n",
      "number of short falling:  11777\n",
      "number of panalty:  0\n"
     ]
    }
   ],
   "source": [
    "trading(holdout_result['Wind(t+18)'], holdout_result.prediction)"
   ]
  },
  {
   "cell_type": "code",
   "execution_count": null,
   "metadata": {},
   "outputs": [],
   "source": []
  },
  {
   "cell_type": "code",
   "execution_count": null,
   "metadata": {},
   "outputs": [],
   "source": []
  },
  {
   "cell_type": "code",
   "execution_count": null,
   "metadata": {},
   "outputs": [],
   "source": []
  },
  {
   "cell_type": "code",
   "execution_count": null,
   "metadata": {},
   "outputs": [],
   "source": []
  },
  {
   "cell_type": "code",
   "execution_count": 39,
   "metadata": {},
   "outputs": [],
   "source": [
    "test_result['wind_baseline']  = data.Wind.mean()"
   ]
  },
  {
   "cell_type": "code",
   "execution_count": 40,
   "metadata": {},
   "outputs": [
    {
     "data": {
      "image/png": "[encoded data removed]",
      "text/plain": [
       "<Figure size 1440x648 with 1 Axes>"
      ]
     },
     "metadata": {},
     "output_type": "display_data"
    },
    {
     "name": "stdout",
     "output_type": "stream",
     "text": [
      "resultant budget:  256858933.63037205\n",
      "net profit:  -743141066.369628\n",
      "number of short falling:  15202\n",
      "number of panalty:  0\n"
     ]
    }
   ],
   "source": [
    "trading(test_result['Wind(t+18)'], test_result.wind_baseline)"
   ]
  },
  {
   "cell_type": "code",
   "execution_count": null,
   "metadata": {},
   "outputs": [],
   "source": []
  },
  {
   "cell_type": "code",
   "execution_count": null,
   "metadata": {},
   "outputs": [],
   "source": []
  },
  {
   "cell_type": "code",
   "execution_count": null,
   "metadata": {},
   "outputs": [],
   "source": []
  },
  {
   "cell_type": "code",
   "execution_count": null,
   "metadata": {},
   "outputs": [],
   "source": []
  },
  {
   "cell_type": "code",
   "execution_count": null,
   "metadata": {},
   "outputs": [],
   "source": []
  },
  {
   "cell_type": "code",
   "execution_count": null,
   "metadata": {},
   "outputs": [],
   "source": []
  },
  {
   "cell_type": "code",
   "execution_count": null,
   "metadata": {},
   "outputs": [],
   "source": []
  }
 ],
 "metadata": {
  "kernelspec": {
   "display_name": "Python 3",
   "language": "python",
   "name": "python3"
  },
  "language_info": {
   "codemirror_mode": {
    "name": "ipython",
    "version": 3
   },
   "file_extension": ".py",
   "mimetype": "text/x-python",
   "name": "python",
   "nbconvert_exporter": "python",
   "pygments_lexer": "ipython3",
   "version": "3.7.6"
  }
 },
 "nbformat": 4,
 "nbformat_minor": 4
}
