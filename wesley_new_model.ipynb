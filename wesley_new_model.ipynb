{
 "cells": [
  {
   "cell_type": "code",
   "execution_count": 1,
   "metadata": {},
   "outputs": [
    {
     "name": "stderr",
     "output_type": "stream",
     "text": [
      "C:\\miniconda\\envs\\tensorflow\\lib\\site-packages\\tensorflow\\python\\framework\\dtypes.py:516: FutureWarning: Passing (type, 1) or '1type' as a synonym of type is deprecated; in a future version of numpy, it will be understood as (type, (1,)) / '(1,)type'.\n",
      "  _np_qint8 = np.dtype([(\"qint8\", np.int8, 1)])\n",
      "C:\\miniconda\\envs\\tensorflow\\lib\\site-packages\\tensorflow\\python\\framework\\dtypes.py:517: FutureWarning: Passing (type, 1) or '1type' as a synonym of type is deprecated; in a future version of numpy, it will be understood as (type, (1,)) / '(1,)type'.\n",
      "  _np_quint8 = np.dtype([(\"quint8\", np.uint8, 1)])\n",
      "C:\\miniconda\\envs\\tensorflow\\lib\\site-packages\\tensorflow\\python\\framework\\dtypes.py:518: FutureWarning: Passing (type, 1) or '1type' as a synonym of type is deprecated; in a future version of numpy, it will be understood as (type, (1,)) / '(1,)type'.\n",
      "  _np_qint16 = np.dtype([(\"qint16\", np.int16, 1)])\n",
      "C:\\miniconda\\envs\\tensorflow\\lib\\site-packages\\tensorflow\\python\\framework\\dtypes.py:519: FutureWarning: Passing (type, 1) or '1type' as a synonym of type is deprecated; in a future version of numpy, it will be understood as (type, (1,)) / '(1,)type'.\n",
      "  _np_quint16 = np.dtype([(\"quint16\", np.uint16, 1)])\n",
      "C:\\miniconda\\envs\\tensorflow\\lib\\site-packages\\tensorflow\\python\\framework\\dtypes.py:520: FutureWarning: Passing (type, 1) or '1type' as a synonym of type is deprecated; in a future version of numpy, it will be understood as (type, (1,)) / '(1,)type'.\n",
      "  _np_qint32 = np.dtype([(\"qint32\", np.int32, 1)])\n",
      "C:\\miniconda\\envs\\tensorflow\\lib\\site-packages\\tensorflow\\python\\framework\\dtypes.py:525: FutureWarning: Passing (type, 1) or '1type' as a synonym of type is deprecated; in a future version of numpy, it will be understood as (type, (1,)) / '(1,)type'.\n",
      "  np_resource = np.dtype([(\"resource\", np.ubyte, 1)])\n",
      "C:\\miniconda\\envs\\tensorflow\\lib\\site-packages\\tensorboard\\compat\\tensorflow_stub\\dtypes.py:541: FutureWarning: Passing (type, 1) or '1type' as a synonym of type is deprecated; in a future version of numpy, it will be understood as (type, (1,)) / '(1,)type'.\n",
      "  _np_qint8 = np.dtype([(\"qint8\", np.int8, 1)])\n",
      "C:\\miniconda\\envs\\tensorflow\\lib\\site-packages\\tensorboard\\compat\\tensorflow_stub\\dtypes.py:542: FutureWarning: Passing (type, 1) or '1type' as a synonym of type is deprecated; in a future version of numpy, it will be understood as (type, (1,)) / '(1,)type'.\n",
      "  _np_quint8 = np.dtype([(\"quint8\", np.uint8, 1)])\n",
      "C:\\miniconda\\envs\\tensorflow\\lib\\site-packages\\tensorboard\\compat\\tensorflow_stub\\dtypes.py:543: FutureWarning: Passing (type, 1) or '1type' as a synonym of type is deprecated; in a future version of numpy, it will be understood as (type, (1,)) / '(1,)type'.\n",
      "  _np_qint16 = np.dtype([(\"qint16\", np.int16, 1)])\n",
      "C:\\miniconda\\envs\\tensorflow\\lib\\site-packages\\tensorboard\\compat\\tensorflow_stub\\dtypes.py:544: FutureWarning: Passing (type, 1) or '1type' as a synonym of type is deprecated; in a future version of numpy, it will be understood as (type, (1,)) / '(1,)type'.\n",
      "  _np_quint16 = np.dtype([(\"quint16\", np.uint16, 1)])\n",
      "C:\\miniconda\\envs\\tensorflow\\lib\\site-packages\\tensorboard\\compat\\tensorflow_stub\\dtypes.py:545: FutureWarning: Passing (type, 1) or '1type' as a synonym of type is deprecated; in a future version of numpy, it will be understood as (type, (1,)) / '(1,)type'.\n",
      "  _np_qint32 = np.dtype([(\"qint32\", np.int32, 1)])\n",
      "C:\\miniconda\\envs\\tensorflow\\lib\\site-packages\\tensorboard\\compat\\tensorflow_stub\\dtypes.py:550: FutureWarning: Passing (type, 1) or '1type' as a synonym of type is deprecated; in a future version of numpy, it will be understood as (type, (1,)) / '(1,)type'.\n",
      "  np_resource = np.dtype([(\"resource\", np.ubyte, 1)])\n"
     ]
    }
   ],
   "source": [
    "import pandas as pd\n",
    "import numpy as np\n",
    "import tensorflow as tf\n",
    "import os\n",
    "import plotly.express as px\n",
    "from plotly.subplots import make_subplots\n",
    "import plotly.graph_objects as go\n",
    "from sklearn.metrics import mean_squared_error, mean_absolute_error\n",
    "from sklearn.preprocessing import StandardScaler\n"
   ]
  },
  {
   "cell_type": "code",
   "execution_count": 2,
   "metadata": {},
   "outputs": [
    {
     "name": "stderr",
     "output_type": "stream",
     "text": [
      "Using TensorFlow backend.\n"
     ]
    }
   ],
   "source": [
    "import tensorflow as tf\n",
    "from tensorflow.python.keras.layers import  Input,  Dense, LSTM, Concatenate, Dropout, Bidirectional\n",
    "from tensorflow.python.keras.models import Model\n",
    "from tensorflow.python.keras import regularizers\n",
    "from tensorflow.python.keras.optimizers import Adam\n",
    "from tensorflow.python.keras.callbacks import EarlyStopping\n",
    "from keras.callbacks import ModelCheckpoint\n",
    "import matplotlib.pyplot as plt\n",
    "import gc\n",
    "from tqdm import tqdm\n",
    "plt.style.use('fivethirtyeight')"
   ]
  },
  {
   "cell_type": "code",
   "execution_count": null,
   "metadata": {},
   "outputs": [],
   "source": []
  },
  {
   "cell_type": "code",
   "execution_count": 3,
   "metadata": {},
   "outputs": [],
   "source": [
    "wind_columns = [ 'guitrancourt_Speed(m/s)', 'guitrancourt_Direction (deg N)',\n",
    "       'lieusaint_Speed(m/s)', 'lieusaint_Direction (deg N)',\n",
    "       'lvs-pussay_Speed(m/s)', 'lvs-pussay_Direction (deg N)',\n",
    "       'parc-du-gatinais_Speed(m/s)', 'parc-du-gatinais_Direction (deg N)',\n",
    "       'arville_Speed(m/s)', 'arville_Direction (deg N)',\n",
    "       'boissy-la-riviere_Speed(m/s)', 'boissy-la-riviere_Direction (deg N)',\n",
    "       'angerville-1_Speed(m/s)', 'angerville-1_Direction (deg N)',\n",
    "       'angerville-2_Speed(m/s)', 'angerville-2_Direction (deg N)',\n",
    "       'guitrancourt-b_Speed(m/s)', 'guitrancourt-b_Direction (deg N)',\n",
    "       'lieusaint-b_Speed(m/s)', 'lieusaint-b_Direction (deg N)',\n",
    "       'lvs-pussay-b_Speed(m/s)', 'lvs-pussay-b_Direction (deg N)',\n",
    "       'parc-du-gatinais-b_Speed(m/s)', 'parc-du-gatinais-b_Direction (deg N)',\n",
    "       'arville-b_Speed(m/s)', 'arville-b_Direction (deg N)',\n",
    "       'boissy-la-riviere-b_Speed(m/s)',\n",
    "       'boissy-la-riviere-b_Direction (deg N)', 'angerville-1-b_Speed(m/s)',\n",
    "       'angerville-1-b_Direction (deg N)', 'angerville-2-b_Speed(m/s)',\n",
    "       'angerville-2-b_Direction (deg N)']\n",
    "wind_angle_columns = ['guitrancourt_Direction (deg N)','lieusaint_Direction (deg N)','lvs-pussay_Direction (deg N)',\n",
    " 'parc-du-gatinais_Direction (deg N)','arville_Direction (deg N)','boissy-la-riviere_Direction (deg N)','angerville-1_Direction (deg N)', \n",
    " 'angerville-2_Direction (deg N)','guitrancourt-b_Direction (deg N)','lieusaint-b_Direction (deg N)','lvs-pussay-b_Direction (deg N)',\n",
    " 'parc-du-gatinais-b_Direction (deg N)','arville-b_Direction (deg N)','boissy-la-riviere-b_Direction (deg N)','angerville-1-b_Direction (deg N)','angerville-2-b_Direction (deg N)'\n",
    "\n",
    "]\n",
    "wind_speed_columns = set(wind_columns) - set(wind_angle_columns)\n",
    "wind_speed_columns = list(wind_speed_columns)"
   ]
  },
  {
   "cell_type": "code",
   "execution_count": null,
   "metadata": {},
   "outputs": [],
   "source": []
  },
  {
   "cell_type": "code",
   "execution_count": 4,
   "metadata": {},
   "outputs": [],
   "source": [
    "df = pd.read_csv(\"combined_energy_data.csv\")"
   ]
  },
  {
   "cell_type": "code",
   "execution_count": null,
   "metadata": {},
   "outputs": [],
   "source": []
  },
  {
   "cell_type": "code",
   "execution_count": null,
   "metadata": {},
   "outputs": [],
   "source": []
  },
  {
   "cell_type": "code",
   "execution_count": null,
   "metadata": {},
   "outputs": [],
   "source": []
  },
  {
   "cell_type": "code",
   "execution_count": 5,
   "metadata": {},
   "outputs": [],
   "source": [
    "## convert it to datetime\n",
    "df['datetime'] = pd.to_datetime(df.datetime)\n",
    "agg_columns =  [\"datetime\",\"Wind\"]\n",
    "required_columns = [\"Hours\"] + agg_columns + [i for i in df.columns[12:]]\n",
    "df_agg = df[agg_columns].groupby([df.datetime.dt.floor(\"H\")]).agg([\"mean\",\"median\",\"max\",\"min\",\"std\",\"sum\"])\n",
    "df_agg.columns = df_agg.columns.map('_'.join)\n",
    "df_agg = df_agg.reset_index()\n"
   ]
  },
  {
   "cell_type": "code",
   "execution_count": null,
   "metadata": {},
   "outputs": [],
   "source": []
  },
  {
   "cell_type": "code",
   "execution_count": 6,
   "metadata": {},
   "outputs": [],
   "source": [
    "df_merged = df_agg.merge(df[required_columns], how=\"left\", on=\"datetime\")"
   ]
  },
  {
   "cell_type": "code",
   "execution_count": null,
   "metadata": {},
   "outputs": [],
   "source": []
  },
  {
   "cell_type": "code",
   "execution_count": 7,
   "metadata": {},
   "outputs": [
    {
     "ename": "NameError",
     "evalue": "name 'df_interpolated' is not defined",
     "output_type": "error",
     "traceback": [
      "\u001b[1;31m---------------------------------------------------------------------------\u001b[0m",
      "\u001b[1;31mNameError\u001b[0m                                 Traceback (most recent call last)",
      "\u001b[1;32m<ipython-input-7-8325a3e6b663>\u001b[0m in \u001b[0;36m<module>\u001b[1;34m\u001b[0m\n\u001b[1;32m----> 1\u001b[1;33m \u001b[0mdf_interpolated\u001b[0m\u001b[1;33m.\u001b[0m\u001b[0mdatetime\u001b[0m\u001b[1;33m[\u001b[0m\u001b[1;36m8758\u001b[0m\u001b[1;33m]\u001b[0m\u001b[1;33m\u001b[0m\u001b[1;33m\u001b[0m\u001b[0m\n\u001b[0m",
      "\u001b[1;31mNameError\u001b[0m: name 'df_interpolated' is not defined"
     ]
    }
   ],
   "source": []
  },
  {
   "cell_type": "code",
   "execution_count": null,
   "metadata": {},
   "outputs": [],
   "source": []
  },
  {
   "cell_type": "code",
   "execution_count": null,
   "metadata": {},
   "outputs": [],
   "source": []
  },
  {
   "cell_type": "code",
   "execution_count": 10,
   "metadata": {},
   "outputs": [],
   "source": [
    "train_index = 8758\n",
    "test_index = 17517\n",
    "holdout_index = 26276"
   ]
  },
  {
   "cell_type": "code",
   "execution_count": 11,
   "metadata": {},
   "outputs": [
    {
     "data": {
      "text/html": [
       "<div>\n",
       "<style scoped>\n",
       "    .dataframe tbody tr th:only-of-type {\n",
       "        vertical-align: middle;\n",
       "    }\n",
       "\n",
       "    .dataframe tbody tr th {\n",
       "        vertical-align: top;\n",
       "    }\n",
       "\n",
       "    .dataframe thead th {\n",
       "        text-align: right;\n",
       "    }\n",
       "</style>\n",
       "<table border=\"1\" class=\"dataframe\">\n",
       "  <thead>\n",
       "    <tr style=\"text-align: right;\">\n",
       "      <th></th>\n",
       "      <th>datetime</th>\n",
       "      <th>Wind_mean</th>\n",
       "      <th>Wind_median</th>\n",
       "      <th>Wind_max</th>\n",
       "      <th>Wind_min</th>\n",
       "      <th>Wind_std</th>\n",
       "      <th>Wind_sum</th>\n",
       "      <th>Hours</th>\n",
       "      <th>Wind</th>\n",
       "      <th>guitrancourt_Speed(m/s)</th>\n",
       "      <th>...</th>\n",
       "      <th>parc-du-gatinais-b_Speed(m/s)</th>\n",
       "      <th>parc-du-gatinais-b_Direction (deg N)</th>\n",
       "      <th>arville-b_Speed(m/s)</th>\n",
       "      <th>arville-b_Direction (deg N)</th>\n",
       "      <th>boissy-la-riviere-b_Speed(m/s)</th>\n",
       "      <th>boissy-la-riviere-b_Direction (deg N)</th>\n",
       "      <th>angerville-1-b_Speed(m/s)</th>\n",
       "      <th>angerville-1-b_Direction (deg N)</th>\n",
       "      <th>angerville-2-b_Speed(m/s)</th>\n",
       "      <th>angerville-2-b_Direction (deg N)</th>\n",
       "    </tr>\n",
       "  </thead>\n",
       "  <tbody>\n",
       "    <tr>\n",
       "      <th>0</th>\n",
       "      <td>2017-01-01 01:00:00</td>\n",
       "      <td>0.0</td>\n",
       "      <td>0.0</td>\n",
       "      <td>0.0</td>\n",
       "      <td>0.0</td>\n",
       "      <td>0.0</td>\n",
       "      <td>0.0</td>\n",
       "      <td>02:00</td>\n",
       "      <td>0.0</td>\n",
       "      <td>1.961667</td>\n",
       "      <td>...</td>\n",
       "      <td>2.505</td>\n",
       "      <td>221.333333</td>\n",
       "      <td>2.516667</td>\n",
       "      <td>221.333333</td>\n",
       "      <td>2.723333</td>\n",
       "      <td>221.833333</td>\n",
       "      <td>2.72</td>\n",
       "      <td>223.5</td>\n",
       "      <td>2.72</td>\n",
       "      <td>223.5</td>\n",
       "    </tr>\n",
       "    <tr>\n",
       "      <th>1</th>\n",
       "      <td>2017-01-01 02:00:00</td>\n",
       "      <td>0.0</td>\n",
       "      <td>0.0</td>\n",
       "      <td>0.0</td>\n",
       "      <td>0.0</td>\n",
       "      <td>0.0</td>\n",
       "      <td>0.0</td>\n",
       "      <td>03:00</td>\n",
       "      <td>0.0</td>\n",
       "      <td>2.063333</td>\n",
       "      <td>...</td>\n",
       "      <td>2.500</td>\n",
       "      <td>217.666667</td>\n",
       "      <td>2.513333</td>\n",
       "      <td>217.666667</td>\n",
       "      <td>2.716667</td>\n",
       "      <td>217.666667</td>\n",
       "      <td>2.70</td>\n",
       "      <td>219.0</td>\n",
       "      <td>2.70</td>\n",
       "      <td>219.0</td>\n",
       "    </tr>\n",
       "    <tr>\n",
       "      <th>2</th>\n",
       "      <td>2017-01-01 03:00:00</td>\n",
       "      <td>0.0</td>\n",
       "      <td>0.0</td>\n",
       "      <td>0.0</td>\n",
       "      <td>0.0</td>\n",
       "      <td>0.0</td>\n",
       "      <td>0.0</td>\n",
       "      <td>04:00</td>\n",
       "      <td>0.0</td>\n",
       "      <td>2.165000</td>\n",
       "      <td>...</td>\n",
       "      <td>2.495</td>\n",
       "      <td>214.000000</td>\n",
       "      <td>2.510000</td>\n",
       "      <td>214.000000</td>\n",
       "      <td>2.710000</td>\n",
       "      <td>213.500000</td>\n",
       "      <td>2.68</td>\n",
       "      <td>214.5</td>\n",
       "      <td>2.68</td>\n",
       "      <td>214.5</td>\n",
       "    </tr>\n",
       "    <tr>\n",
       "      <th>3</th>\n",
       "      <td>2017-01-01 04:00:00</td>\n",
       "      <td>0.0</td>\n",
       "      <td>0.0</td>\n",
       "      <td>0.0</td>\n",
       "      <td>0.0</td>\n",
       "      <td>0.0</td>\n",
       "      <td>0.0</td>\n",
       "      <td>05:00</td>\n",
       "      <td>0.0</td>\n",
       "      <td>2.266667</td>\n",
       "      <td>...</td>\n",
       "      <td>2.490</td>\n",
       "      <td>210.333333</td>\n",
       "      <td>2.506667</td>\n",
       "      <td>210.333333</td>\n",
       "      <td>2.703333</td>\n",
       "      <td>209.333333</td>\n",
       "      <td>2.66</td>\n",
       "      <td>210.0</td>\n",
       "      <td>2.66</td>\n",
       "      <td>210.0</td>\n",
       "    </tr>\n",
       "    <tr>\n",
       "      <th>4</th>\n",
       "      <td>2017-01-01 05:00:00</td>\n",
       "      <td>0.0</td>\n",
       "      <td>0.0</td>\n",
       "      <td>0.0</td>\n",
       "      <td>0.0</td>\n",
       "      <td>0.0</td>\n",
       "      <td>0.0</td>\n",
       "      <td>06:00</td>\n",
       "      <td>0.0</td>\n",
       "      <td>2.368333</td>\n",
       "      <td>...</td>\n",
       "      <td>2.485</td>\n",
       "      <td>206.666667</td>\n",
       "      <td>2.503333</td>\n",
       "      <td>206.666667</td>\n",
       "      <td>2.696667</td>\n",
       "      <td>205.166667</td>\n",
       "      <td>2.64</td>\n",
       "      <td>205.5</td>\n",
       "      <td>2.64</td>\n",
       "      <td>205.5</td>\n",
       "    </tr>\n",
       "  </tbody>\n",
       "</table>\n",
       "<p>5 rows × 41 columns</p>\n",
       "</div>"
      ],
      "text/plain": [
       "             datetime  Wind_mean  Wind_median  Wind_max  Wind_min  Wind_std  \\\n",
       "0 2017-01-01 01:00:00        0.0          0.0       0.0       0.0       0.0   \n",
       "1 2017-01-01 02:00:00        0.0          0.0       0.0       0.0       0.0   \n",
       "2 2017-01-01 03:00:00        0.0          0.0       0.0       0.0       0.0   \n",
       "3 2017-01-01 04:00:00        0.0          0.0       0.0       0.0       0.0   \n",
       "4 2017-01-01 05:00:00        0.0          0.0       0.0       0.0       0.0   \n",
       "\n",
       "   Wind_sum  Hours  Wind  guitrancourt_Speed(m/s)  ...  \\\n",
       "0       0.0  02:00   0.0                 1.961667  ...   \n",
       "1       0.0  03:00   0.0                 2.063333  ...   \n",
       "2       0.0  04:00   0.0                 2.165000  ...   \n",
       "3       0.0  05:00   0.0                 2.266667  ...   \n",
       "4       0.0  06:00   0.0                 2.368333  ...   \n",
       "\n",
       "   parc-du-gatinais-b_Speed(m/s)  parc-du-gatinais-b_Direction (deg N)  \\\n",
       "0                          2.505                            221.333333   \n",
       "1                          2.500                            217.666667   \n",
       "2                          2.495                            214.000000   \n",
       "3                          2.490                            210.333333   \n",
       "4                          2.485                            206.666667   \n",
       "\n",
       "   arville-b_Speed(m/s)  arville-b_Direction (deg N)  \\\n",
       "0              2.516667                   221.333333   \n",
       "1              2.513333                   217.666667   \n",
       "2              2.510000                   214.000000   \n",
       "3              2.506667                   210.333333   \n",
       "4              2.503333                   206.666667   \n",
       "\n",
       "   boissy-la-riviere-b_Speed(m/s)  boissy-la-riviere-b_Direction (deg N)  \\\n",
       "0                        2.723333                             221.833333   \n",
       "1                        2.716667                             217.666667   \n",
       "2                        2.710000                             213.500000   \n",
       "3                        2.703333                             209.333333   \n",
       "4                        2.696667                             205.166667   \n",
       "\n",
       "   angerville-1-b_Speed(m/s)  angerville-1-b_Direction (deg N)  \\\n",
       "0                       2.72                             223.5   \n",
       "1                       2.70                             219.0   \n",
       "2                       2.68                             214.5   \n",
       "3                       2.66                             210.0   \n",
       "4                       2.64                             205.5   \n",
       "\n",
       "   angerville-2-b_Speed(m/s)  angerville-2-b_Direction (deg N)  \n",
       "0                       2.72                             223.5  \n",
       "1                       2.70                             219.0  \n",
       "2                       2.68                             214.5  \n",
       "3                       2.66                             210.0  \n",
       "4                       2.64                             205.5  \n",
       "\n",
       "[5 rows x 41 columns]"
      ]
     },
     "execution_count": 11,
     "metadata": {},
     "output_type": "execute_result"
    }
   ],
   "source": [
    "df_interpolated = df_merged.interpolate(method=\"linear\")\n",
    "df_interpolated = df_interpolated[2:]\n",
    "df_interpolated = df_interpolated.reset_index(drop=True)\n",
    "df_interpolated.head()"
   ]
  },
  {
   "cell_type": "code",
   "execution_count": 42,
   "metadata": {},
   "outputs": [],
   "source": [
    "wind_sum_T_plus_18 = df_interpolated.Wind_sum"
   ]
  },
  {
   "cell_type": "code",
   "execution_count": null,
   "metadata": {},
   "outputs": [],
   "source": []
  },
  {
   "cell_type": "code",
   "execution_count": 43,
   "metadata": {},
   "outputs": [],
   "source": [
    "def get_loss_len(df):\n",
    "    return df.shape[0] - df.dropna().shape[0]"
   ]
  },
  {
   "cell_type": "code",
   "execution_count": 44,
   "metadata": {},
   "outputs": [],
   "source": [
    "def get_lag(series,number_of_frame,lead_time=18,title_name=\"Wind_mean_T_plus_\"):\n",
    "    df = pd.DataFrame()\n",
    "    for i in range(lead_time,number_of_frame+lead_time):\n",
    "        df[title_name+ str(-i)] = series.shift(-i-lead_time)\n",
    "    return df\n",
    "    "
   ]
  },
  {
   "cell_type": "code",
   "execution_count": 45,
   "metadata": {},
   "outputs": [],
   "source": [
    "# get wind sum frame data"
   ]
  },
  {
   "cell_type": "code",
   "execution_count": 47,
   "metadata": {},
   "outputs": [],
   "source": [
    "wind_sum_from_0_frame_5 = get_lag(wind_sum_T_plus_18,5) # T0\n",
    "wind_sum_lag_29_frame_3 = get_lag(wind_sum_T_plus_18,3,29) #T-29 lag_month\n",
    "wind_sum_lag_379_frame_3 = get_lag(wind_sum_T_plus_18,3,379) #T-379 lag month\n",
    "wind_sum_target = get_lag(wind_sum_T_plus_18,1,0)"
   ]
  },
  {
   "cell_type": "code",
   "execution_count": null,
   "metadata": {},
   "outputs": [],
   "source": []
  },
  {
   "cell_type": "code",
   "execution_count": 48,
   "metadata": {},
   "outputs": [
    {
     "data": {
      "text/plain": [
       "['boissy-la-riviere-b_Speed(m/s)',\n",
       " 'arville-b_Speed(m/s)',\n",
       " 'lieusaint-b_Speed(m/s)',\n",
       " 'guitrancourt-b_Speed(m/s)',\n",
       " 'guitrancourt_Speed(m/s)',\n",
       " 'lvs-pussay_Speed(m/s)',\n",
       " 'angerville-1_Speed(m/s)',\n",
       " 'boissy-la-riviere_Speed(m/s)',\n",
       " 'arville_Speed(m/s)',\n",
       " 'lvs-pussay-b_Speed(m/s)',\n",
       " 'angerville-2_Speed(m/s)',\n",
       " 'parc-du-gatinais_Speed(m/s)',\n",
       " 'parc-du-gatinais-b_Speed(m/s)',\n",
       " 'angerville-1-b_Speed(m/s)',\n",
       " 'angerville-2-b_Speed(m/s)',\n",
       " 'lieusaint_Speed(m/s)']"
      ]
     },
     "execution_count": 48,
     "metadata": {},
     "output_type": "execute_result"
    }
   ],
   "source": [
    "# get wind speed frame data\n",
    "wind_speed_columns"
   ]
  },
  {
   "cell_type": "code",
   "execution_count": 49,
   "metadata": {},
   "outputs": [],
   "source": [
    "df_wind_speed = df_interpolated[wind_speed_columns]"
   ]
  },
  {
   "cell_type": "code",
   "execution_count": null,
   "metadata": {},
   "outputs": [],
   "source": []
  },
  {
   "cell_type": "code",
   "execution_count": null,
   "metadata": {},
   "outputs": [],
   "source": []
  },
  {
   "cell_type": "code",
   "execution_count": 50,
   "metadata": {},
   "outputs": [],
   "source": [
    "wind_speed_group_1 = [\"guitrancourt_Speed(m/s)\",\"guitrancourt-b_Speed(m/s)\",\"lvs-pussay-b_Speed(m/s)\"]#0,1,2\n",
    "wind_speed_group_2 = list(set(wind_speed_columns) - set(wind_speed_group_1))"
   ]
  },
  {
   "cell_type": "code",
   "execution_count": null,
   "metadata": {},
   "outputs": [],
   "source": []
  },
  {
   "cell_type": "code",
   "execution_count": 51,
   "metadata": {},
   "outputs": [],
   "source": [
    "df_wind_speed_group_1 = []\n",
    "for i in wind_speed_group_1:\n",
    "    df_wind_speed_group_1.append(get_lag(df_wind_speed[i],3,0,i+\"_T_plus_\"))\n",
    "    \n",
    "df_wind_speed_group_1 = pd.concat(df_wind_speed_group_1,axis=1)\n",
    "    "
   ]
  },
  {
   "cell_type": "code",
   "execution_count": null,
   "metadata": {},
   "outputs": [],
   "source": []
  },
  {
   "cell_type": "code",
   "execution_count": 52,
   "metadata": {},
   "outputs": [],
   "source": [
    "df_wind_speed_group_2 = []\n",
    "for i in wind_speed_group_2:\n",
    "    df_wind_speed_group_2.append(get_lag(df_wind_speed[i],3,-1,i+\"_T_plus_\"))\n",
    "df_wind_speed_group_2 = pd.concat(df_wind_speed_group_2,axis=1)"
   ]
  },
  {
   "cell_type": "code",
   "execution_count": null,
   "metadata": {},
   "outputs": [],
   "source": []
  },
  {
   "cell_type": "code",
   "execution_count": 53,
   "metadata": {},
   "outputs": [],
   "source": [
    "#make new persistance"
   ]
  },
  {
   "cell_type": "code",
   "execution_count": 64,
   "metadata": {},
   "outputs": [],
   "source": [
    "persistance = np.array(get_lag(wind_sum_T_plus_18,1,18))+np.array(get_lag(wind_sum_T_plus_18,1,19))+np.array(get_lag(wind_sum_T_plus_18,1,30))\n",
    "persistance /= 3 "
   ]
  },
  {
   "cell_type": "code",
   "execution_count": null,
   "metadata": {},
   "outputs": [],
   "source": []
  },
  {
   "cell_type": "markdown",
   "metadata": {},
   "source": [
    "# Test train split"
   ]
  },
  {
   "cell_type": "code",
   "execution_count": 65,
   "metadata": {},
   "outputs": [],
   "source": [
    "lost = get_loss_len(wind_sum_lag_379_frame_3)"
   ]
  },
  {
   "cell_type": "code",
   "execution_count": 66,
   "metadata": {},
   "outputs": [
    {
     "data": {
      "text/plain": [
       "760"
      ]
     },
     "execution_count": 66,
     "metadata": {},
     "output_type": "execute_result"
    }
   ],
   "source": [
    "lost"
   ]
  },
  {
   "cell_type": "code",
   "execution_count": 67,
   "metadata": {},
   "outputs": [
    {
     "data": {
      "text/html": [
       "<div>\n",
       "<style scoped>\n",
       "    .dataframe tbody tr th:only-of-type {\n",
       "        vertical-align: middle;\n",
       "    }\n",
       "\n",
       "    .dataframe tbody tr th {\n",
       "        vertical-align: top;\n",
       "    }\n",
       "\n",
       "    .dataframe thead th {\n",
       "        text-align: right;\n",
       "    }\n",
       "</style>\n",
       "<table border=\"1\" class=\"dataframe\">\n",
       "  <thead>\n",
       "    <tr style=\"text-align: right;\">\n",
       "      <th></th>\n",
       "      <th>arville_Speed(m/s)_T_plus_1</th>\n",
       "      <th>arville_Speed(m/s)_T_plus_0</th>\n",
       "      <th>arville_Speed(m/s)_T_plus_-1</th>\n",
       "      <th>parc-du-gatinais-b_Speed(m/s)_T_plus_1</th>\n",
       "      <th>parc-du-gatinais-b_Speed(m/s)_T_plus_0</th>\n",
       "      <th>parc-du-gatinais-b_Speed(m/s)_T_plus_-1</th>\n",
       "      <th>angerville-2-b_Speed(m/s)_T_plus_1</th>\n",
       "      <th>angerville-2-b_Speed(m/s)_T_plus_0</th>\n",
       "      <th>angerville-2-b_Speed(m/s)_T_plus_-1</th>\n",
       "      <th>parc-du-gatinais_Speed(m/s)_T_plus_1</th>\n",
       "      <th>...</th>\n",
       "      <th>boissy-la-riviere_Speed(m/s)_T_plus_-1</th>\n",
       "      <th>angerville-2_Speed(m/s)_T_plus_1</th>\n",
       "      <th>angerville-2_Speed(m/s)_T_plus_0</th>\n",
       "      <th>angerville-2_Speed(m/s)_T_plus_-1</th>\n",
       "      <th>angerville-1-b_Speed(m/s)_T_plus_1</th>\n",
       "      <th>angerville-1-b_Speed(m/s)_T_plus_0</th>\n",
       "      <th>angerville-1-b_Speed(m/s)_T_plus_-1</th>\n",
       "      <th>lieusaint_Speed(m/s)_T_plus_1</th>\n",
       "      <th>lieusaint_Speed(m/s)_T_plus_0</th>\n",
       "      <th>lieusaint_Speed(m/s)_T_plus_-1</th>\n",
       "    </tr>\n",
       "  </thead>\n",
       "  <tbody>\n",
       "    <tr>\n",
       "      <th>0</th>\n",
       "      <td>NaN</td>\n",
       "      <td>NaN</td>\n",
       "      <td>1.558333</td>\n",
       "      <td>NaN</td>\n",
       "      <td>NaN</td>\n",
       "      <td>2.505</td>\n",
       "      <td>NaN</td>\n",
       "      <td>NaN</td>\n",
       "      <td>2.72</td>\n",
       "      <td>NaN</td>\n",
       "      <td>...</td>\n",
       "      <td>1.773333</td>\n",
       "      <td>NaN</td>\n",
       "      <td>NaN</td>\n",
       "      <td>1.78</td>\n",
       "      <td>NaN</td>\n",
       "      <td>NaN</td>\n",
       "      <td>2.72</td>\n",
       "      <td>NaN</td>\n",
       "      <td>NaN</td>\n",
       "      <td>1.636667</td>\n",
       "    </tr>\n",
       "    <tr>\n",
       "      <th>1</th>\n",
       "      <td>NaN</td>\n",
       "      <td>1.558333</td>\n",
       "      <td>1.666667</td>\n",
       "      <td>NaN</td>\n",
       "      <td>2.505</td>\n",
       "      <td>2.500</td>\n",
       "      <td>NaN</td>\n",
       "      <td>2.72</td>\n",
       "      <td>2.70</td>\n",
       "      <td>NaN</td>\n",
       "      <td>...</td>\n",
       "      <td>1.886667</td>\n",
       "      <td>NaN</td>\n",
       "      <td>1.78</td>\n",
       "      <td>1.89</td>\n",
       "      <td>NaN</td>\n",
       "      <td>2.72</td>\n",
       "      <td>2.70</td>\n",
       "      <td>NaN</td>\n",
       "      <td>1.636667</td>\n",
       "      <td>1.773333</td>\n",
       "    </tr>\n",
       "    <tr>\n",
       "      <th>2</th>\n",
       "      <td>1.558333</td>\n",
       "      <td>1.666667</td>\n",
       "      <td>1.775000</td>\n",
       "      <td>2.505</td>\n",
       "      <td>2.500</td>\n",
       "      <td>2.495</td>\n",
       "      <td>2.72</td>\n",
       "      <td>2.70</td>\n",
       "      <td>2.68</td>\n",
       "      <td>1.556667</td>\n",
       "      <td>...</td>\n",
       "      <td>2.000000</td>\n",
       "      <td>1.78</td>\n",
       "      <td>1.89</td>\n",
       "      <td>2.00</td>\n",
       "      <td>2.72</td>\n",
       "      <td>2.70</td>\n",
       "      <td>2.68</td>\n",
       "      <td>1.636667</td>\n",
       "      <td>1.773333</td>\n",
       "      <td>1.910000</td>\n",
       "    </tr>\n",
       "    <tr>\n",
       "      <th>3</th>\n",
       "      <td>1.666667</td>\n",
       "      <td>1.775000</td>\n",
       "      <td>1.883333</td>\n",
       "      <td>2.500</td>\n",
       "      <td>2.495</td>\n",
       "      <td>2.490</td>\n",
       "      <td>2.70</td>\n",
       "      <td>2.68</td>\n",
       "      <td>2.66</td>\n",
       "      <td>1.663333</td>\n",
       "      <td>...</td>\n",
       "      <td>2.113333</td>\n",
       "      <td>1.89</td>\n",
       "      <td>2.00</td>\n",
       "      <td>2.11</td>\n",
       "      <td>2.70</td>\n",
       "      <td>2.68</td>\n",
       "      <td>2.66</td>\n",
       "      <td>1.773333</td>\n",
       "      <td>1.910000</td>\n",
       "      <td>2.046667</td>\n",
       "    </tr>\n",
       "    <tr>\n",
       "      <th>4</th>\n",
       "      <td>1.775000</td>\n",
       "      <td>1.883333</td>\n",
       "      <td>1.991667</td>\n",
       "      <td>2.495</td>\n",
       "      <td>2.490</td>\n",
       "      <td>2.485</td>\n",
       "      <td>2.68</td>\n",
       "      <td>2.66</td>\n",
       "      <td>2.64</td>\n",
       "      <td>1.770000</td>\n",
       "      <td>...</td>\n",
       "      <td>2.226667</td>\n",
       "      <td>2.00</td>\n",
       "      <td>2.11</td>\n",
       "      <td>2.22</td>\n",
       "      <td>2.68</td>\n",
       "      <td>2.66</td>\n",
       "      <td>2.64</td>\n",
       "      <td>1.910000</td>\n",
       "      <td>2.046667</td>\n",
       "      <td>2.183333</td>\n",
       "    </tr>\n",
       "  </tbody>\n",
       "</table>\n",
       "<p>5 rows × 39 columns</p>\n",
       "</div>"
      ],
      "text/plain": [
       "   arville_Speed(m/s)_T_plus_1  arville_Speed(m/s)_T_plus_0  \\\n",
       "0                          NaN                          NaN   \n",
       "1                          NaN                     1.558333   \n",
       "2                     1.558333                     1.666667   \n",
       "3                     1.666667                     1.775000   \n",
       "4                     1.775000                     1.883333   \n",
       "\n",
       "   arville_Speed(m/s)_T_plus_-1  parc-du-gatinais-b_Speed(m/s)_T_plus_1  \\\n",
       "0                      1.558333                                     NaN   \n",
       "1                      1.666667                                     NaN   \n",
       "2                      1.775000                                   2.505   \n",
       "3                      1.883333                                   2.500   \n",
       "4                      1.991667                                   2.495   \n",
       "\n",
       "   parc-du-gatinais-b_Speed(m/s)_T_plus_0  \\\n",
       "0                                     NaN   \n",
       "1                                   2.505   \n",
       "2                                   2.500   \n",
       "3                                   2.495   \n",
       "4                                   2.490   \n",
       "\n",
       "   parc-du-gatinais-b_Speed(m/s)_T_plus_-1  \\\n",
       "0                                    2.505   \n",
       "1                                    2.500   \n",
       "2                                    2.495   \n",
       "3                                    2.490   \n",
       "4                                    2.485   \n",
       "\n",
       "   angerville-2-b_Speed(m/s)_T_plus_1  angerville-2-b_Speed(m/s)_T_plus_0  \\\n",
       "0                                 NaN                                 NaN   \n",
       "1                                 NaN                                2.72   \n",
       "2                                2.72                                2.70   \n",
       "3                                2.70                                2.68   \n",
       "4                                2.68                                2.66   \n",
       "\n",
       "   angerville-2-b_Speed(m/s)_T_plus_-1  parc-du-gatinais_Speed(m/s)_T_plus_1  \\\n",
       "0                                 2.72                                   NaN   \n",
       "1                                 2.70                                   NaN   \n",
       "2                                 2.68                              1.556667   \n",
       "3                                 2.66                              1.663333   \n",
       "4                                 2.64                              1.770000   \n",
       "\n",
       "   ...  boissy-la-riviere_Speed(m/s)_T_plus_-1  \\\n",
       "0  ...                                1.773333   \n",
       "1  ...                                1.886667   \n",
       "2  ...                                2.000000   \n",
       "3  ...                                2.113333   \n",
       "4  ...                                2.226667   \n",
       "\n",
       "   angerville-2_Speed(m/s)_T_plus_1  angerville-2_Speed(m/s)_T_plus_0  \\\n",
       "0                               NaN                               NaN   \n",
       "1                               NaN                              1.78   \n",
       "2                              1.78                              1.89   \n",
       "3                              1.89                              2.00   \n",
       "4                              2.00                              2.11   \n",
       "\n",
       "   angerville-2_Speed(m/s)_T_plus_-1  angerville-1-b_Speed(m/s)_T_plus_1  \\\n",
       "0                               1.78                                 NaN   \n",
       "1                               1.89                                 NaN   \n",
       "2                               2.00                                2.72   \n",
       "3                               2.11                                2.70   \n",
       "4                               2.22                                2.68   \n",
       "\n",
       "   angerville-1-b_Speed(m/s)_T_plus_0  angerville-1-b_Speed(m/s)_T_plus_-1  \\\n",
       "0                                 NaN                                 2.72   \n",
       "1                                2.72                                 2.70   \n",
       "2                                2.70                                 2.68   \n",
       "3                                2.68                                 2.66   \n",
       "4                                2.66                                 2.64   \n",
       "\n",
       "   lieusaint_Speed(m/s)_T_plus_1  lieusaint_Speed(m/s)_T_plus_0  \\\n",
       "0                            NaN                            NaN   \n",
       "1                            NaN                       1.636667   \n",
       "2                       1.636667                       1.773333   \n",
       "3                       1.773333                       1.910000   \n",
       "4                       1.910000                       2.046667   \n",
       "\n",
       "   lieusaint_Speed(m/s)_T_plus_-1  \n",
       "0                        1.636667  \n",
       "1                        1.773333  \n",
       "2                        1.910000  \n",
       "3                        2.046667  \n",
       "4                        2.183333  \n",
       "\n",
       "[5 rows x 39 columns]"
      ]
     },
     "execution_count": 67,
     "metadata": {},
     "output_type": "execute_result"
    }
   ],
   "source": [
    "df_wind_speed_group_2.head() # 2na as i shifted 1"
   ]
  },
  {
   "cell_type": "code",
   "execution_count": 73,
   "metadata": {},
   "outputs": [],
   "source": [
    "wind_sum_from_t_frame_5_dropna = wind_sum_from_0_frame_5[2:-lost].reset_index(drop=True)\n",
    "wind_sum_lag_29_frame_3_dropna  = wind_sum_lag_29_frame_3[2:-lost].reset_index(drop=True)\n",
    "wind_sum_lag_379_frame_3_dropna  = wind_sum_lag_379_frame_3[2:-lost].reset_index(drop=True)\n",
    "wind_speed_group_1_dropna  = df_wind_speed_group_1[2:-lost].reset_index(drop=True)\n",
    "wind_speed_group_2_dropna  = df_wind_speed_group_2[2:-lost].reset_index(drop=True)\n",
    "wind_sum_target_norm = wind_sum_target[2:-lost]\n",
    "persistance = persistance[2:-lost]"
   ]
  },
  {
   "cell_type": "code",
   "execution_count": null,
   "metadata": {},
   "outputs": [],
   "source": []
  },
  {
   "cell_type": "code",
   "execution_count": 74,
   "metadata": {},
   "outputs": [
    {
     "ename": "NameError",
     "evalue": "name 'wind_sum__from_0_frame_5_norm' is not defined",
     "output_type": "error",
     "traceback": [
      "\u001b[1;31m---------------------------------------------------------------------------\u001b[0m",
      "\u001b[1;31mNameError\u001b[0m                                 Traceback (most recent call last)",
      "\u001b[1;32m<ipython-input-74-e58764160822>\u001b[0m in \u001b[0;36m<module>\u001b[1;34m\u001b[0m\n\u001b[1;32m----> 1\u001b[1;33m \u001b[0mwind_sum__from_0_frame_5_norm\u001b[0m\u001b[1;33m\u001b[0m\u001b[1;33m\u001b[0m\u001b[0m\n\u001b[0m",
      "\u001b[1;31mNameError\u001b[0m: name 'wind_sum__from_0_frame_5_norm' is not defined"
     ]
    }
   ],
   "source": [
    "wind_sum__from_0_frame_5_norm"
   ]
  },
  {
   "cell_type": "code",
   "execution_count": 75,
   "metadata": {},
   "outputs": [
    {
     "ename": "NameError",
     "evalue": "name 'wind_sum__from_0_frame_5_norm' is not defined",
     "output_type": "error",
     "traceback": [
      "\u001b[1;31m---------------------------------------------------------------------------\u001b[0m",
      "\u001b[1;31mNameError\u001b[0m                                 Traceback (most recent call last)",
      "\u001b[1;32m<ipython-input-75-14b6a80c22e8>\u001b[0m in \u001b[0;36m<module>\u001b[1;34m\u001b[0m\n\u001b[1;32m----> 1\u001b[1;33m \u001b[0mtotal_size\u001b[0m \u001b[1;33m=\u001b[0m \u001b[0mwind_sum__from_0_frame_5_norm\u001b[0m\u001b[1;33m.\u001b[0m\u001b[0mshape\u001b[0m\u001b[1;33m[\u001b[0m\u001b[1;36m0\u001b[0m\u001b[1;33m]\u001b[0m\u001b[1;33m\u001b[0m\u001b[1;33m\u001b[0m\u001b[0m\n\u001b[0m\u001b[0;32m      2\u001b[0m \u001b[0msplit_index\u001b[0m \u001b[1;33m=\u001b[0m \u001b[0mint\u001b[0m\u001b[1;33m(\u001b[0m\u001b[0mtotal_size\u001b[0m\u001b[1;33m*\u001b[0m\u001b[1;36m0.7\u001b[0m\u001b[1;33m)\u001b[0m\u001b[1;33m\u001b[0m\u001b[1;33m\u001b[0m\u001b[0m\n\u001b[0;32m      3\u001b[0m \u001b[0mprint\u001b[0m\u001b[1;33m(\u001b[0m\u001b[0msplit_index\u001b[0m\u001b[1;33m)\u001b[0m\u001b[1;33m\u001b[0m\u001b[1;33m\u001b[0m\u001b[0m\n",
      "\u001b[1;31mNameError\u001b[0m: name 'wind_sum__from_0_frame_5_norm' is not defined"
     ]
    }
   ],
   "source": [
    "total_size = wind_sum__from_0_frame_5_norm.shape[0]\n",
    "split_index = int(total_size*0.7)\n",
    "print(split_index)"
   ]
  },
  {
   "cell_type": "code",
   "execution_count": 76,
   "metadata": {},
   "outputs": [
    {
     "data": {
      "text/plain": [
       "['arville_Speed(m/s)',\n",
       " 'parc-du-gatinais-b_Speed(m/s)',\n",
       " 'angerville-2-b_Speed(m/s)',\n",
       " 'parc-du-gatinais_Speed(m/s)',\n",
       " 'angerville-1_Speed(m/s)',\n",
       " 'arville-b_Speed(m/s)',\n",
       " 'boissy-la-riviere-b_Speed(m/s)',\n",
       " 'lieusaint-b_Speed(m/s)',\n",
       " 'lvs-pussay_Speed(m/s)',\n",
       " 'boissy-la-riviere_Speed(m/s)',\n",
       " 'angerville-2_Speed(m/s)',\n",
       " 'angerville-1-b_Speed(m/s)',\n",
       " 'lieusaint_Speed(m/s)']"
      ]
     },
     "execution_count": 76,
     "metadata": {},
     "output_type": "execute_result"
    }
   ],
   "source": [
    "wind_speed_group_2"
   ]
  },
  {
   "cell_type": "code",
   "execution_count": 81,
   "metadata": {},
   "outputs": [],
   "source": [
    "train_wind_sum_from_0_frame_5 = wind_sum_from_0_frame_5[:train_index]\n",
    "test_wind_sum_from_0_frame_5 = wind_sum_from_0_frame_5[train_index:test_index]\n",
    "holdout_wind_sum_from_0_frame_5 = wind_sum_from_0_frame_5[test_index:holdout_index]\n",
    "\n",
    "train_wind_sum_lag_29_frame_3 = wind_sum_lag_29_frame_3[:train_index]\n",
    "test_wind_sum_lag_29_frame_3 = wind_sum_lag_29_frame_3[train_index:test_index]\n",
    "holdout_wind_sum_lag_29_frame_3 = wind_sum_lag_29_frame_3[test_index:holdout_index]\n",
    "\n",
    "train_wind_sum_lag_379_frame_3 = wind_sum_lag_379_frame_3[:train_index]\n",
    "test_wind_sum_lag_379_frame_3 = wind_sum_lag_379_frame_3[train_index:test_index]\n",
    "holdout_wind_sum_lag_379_frame_3 = wind_sum_lag_379_frame_3[test_index:holdout_index]\n",
    "\n",
    "train_wind_speed_group_1 = df_wind_speed_group_1[:train_index]\n",
    "test_wind_speed_group_1  = df_wind_speed_group_1[train_index:test_index]\n",
    "holdout_wind_speed_group_1  = df_wind_speed_group_1[test_index:holdout_index]\n",
    "\n",
    "train_wind_speed_group_2 = df_wind_speed_group_2[:train_index]\n",
    "test_wind_speed_group_2  = df_wind_speed_group_2[train_index:test_index]\n",
    "holdout_wind_speed_group_2  = df_wind_speed_group_2[test_index:holdout_index]\n",
    "\n",
    "y =wind_sum_target\n",
    "train_y = y[:train_index]\n",
    "test_y = y[train_index:test_index]\n",
    "holdout_y = y[train_index:test_index]\n",
    "\n",
    "train_persistance = persistance[:train_index]\n",
    "test_persistance = persistance[train_index:test_index]\n",
    "holdout_persistance = persistance[test_index:holdout_index]\n"
   ]
  },
  {
   "cell_type": "code",
   "execution_count": 82,
   "metadata": {},
   "outputs": [],
   "source": [
    "wind_sum_from_0_frame_5_sc = StandardScaler()\n",
    "wind_sum_lag_29_frame_3_sc  = StandardScaler()\n",
    "wind_sum_lag_379_frame_3_sc  = StandardScaler()\n",
    "wind_speed_group_1_sc       = StandardScaler()\n",
    "wind_speed_group_2_sc        = StandardScaler()\n",
    "y_scaler_sc                = StandardScaler()\n",
    "p_scaler_sc                = StandardScaler()"
   ]
  },
  {
   "cell_type": "code",
   "execution_count": null,
   "metadata": {},
   "outputs": [],
   "source": []
  },
  {
   "cell_type": "code",
   "execution_count": null,
   "metadata": {},
   "outputs": [],
   "source": []
  },
  {
   "cell_type": "code",
   "execution_count": 83,
   "metadata": {},
   "outputs": [],
   "source": [
    "train_wind_sum_from_0_frame_5_norm = wind_sum_from_0_frame_5_sc.fit_transform(train_wind_sum_from_0_frame_5)\n",
    "train_wind_sum_lag_29_frame_3_norm = wind_sum_lag_29_frame_3_sc.fit_transform(train_wind_sum_lag_29_frame_3)\n",
    "train_wind_sum_lag_379_frame_3_norm = wind_sum_lag_379_frame_3_sc.fit_transform(train_wind_sum_lag_379_frame_3)\n",
    "train_wind_speed_group_1_norm = wind_speed_group_1_sc.fit_transform(train_wind_speed_group_1)       \n",
    "train_wind_speed_group_2_norm = wind_speed_group_2_sc.fit_transform(train_wind_speed_group_2)      \n",
    "train_y_norm  = y_scaler_sc.fit_transform(train_y)                \n",
    "train_persistance_norm  = p_scaler_sc.fit_transform(train_persistance)                "
   ]
  },
  {
   "cell_type": "code",
   "execution_count": 84,
   "metadata": {},
   "outputs": [],
   "source": [
    "test_wind_sum_from_0_frame_5_norm = wind_sum_from_0_frame_5_sc.transform(test_wind_sum_from_0_frame_5)\n",
    "test_wind_sum_lag_29_frame_3_norm = wind_sum_lag_29_frame_3_sc.transform(test_wind_sum_lag_29_frame_3)\n",
    "test_wind_sum_lag_379_frame_3_norm = wind_sum_lag_379_frame_3_sc.transform(test_wind_sum_lag_379_frame_3)\n",
    "test_wind_speed_group_1_norm = wind_speed_group_1_sc.transform(test_wind_speed_group_1)       \n",
    "test_wind_speed_group_2_norm = wind_speed_group_2_sc.transform(test_wind_speed_group_2)      \n",
    "test_y_norm = y_scaler_sc.transform(test_y)                \n",
    "test_persistance_norm = p_scaler_sc.transform(test_persistance)  "
   ]
  },
  {
   "cell_type": "code",
   "execution_count": 86,
   "metadata": {},
   "outputs": [],
   "source": [
    "holdout_wind_sum_from_0_frame_5_norm = wind_sum_from_0_frame_5_sc.transform(holdout_wind_sum_from_0_frame_5)\n",
    "holdout_wind_sum_lag_29_frame_3_norm = wind_sum_lag_29_frame_3_sc.transform(holdout_wind_sum_lag_29_frame_3)\n",
    "holdout_wind_sum_lag_379_frame_3_norm = wind_sum_lag_379_frame_3_sc.transform(holdout_wind_sum_lag_379_frame_3)\n",
    "holdout_wind_speed_group_1_norm = wind_speed_group_1_sc.transform(holdout_wind_speed_group_1)       \n",
    "holdout_wind_speed_group_2_norm = wind_speed_group_2_sc.transform(holdout_wind_speed_group_2)      \n",
    "holdout_y_norm = y_scaler_sc.transform(holdout_y)                \n",
    "holdout_persistance_norm = p_scaler_sc.transform(holdout_persistance)  "
   ]
  },
  {
   "cell_type": "code",
   "execution_count": 87,
   "metadata": {},
   "outputs": [],
   "source": [
    "# wind_sum_5 = StandardScaler()\n",
    "# wind_sum_3 = StandardScaler()\n",
    "# wind_sum_1 = StandardScaler()\n",
    "# wind_speed_group1 = StandardScaler()\n",
    "# wind_speed_group2 = StandardScaler()\n",
    "# wind_sum__from_0_frame_5_norm = wind_sum_5.fit_transform(wind_sum__from_t_frame_5_dropna)\n",
    "\n",
    "# wind_sum_lag_29_frame_3_norm = wind_sum_3.fit_transform(wind_sum_lag_29_frame_3_dropna)\n",
    "# wind_sum_lag_379_frame_3_norm = wind_sum_3.transform(wind_sum_lag_29_frame_3_dropna)\n",
    "\n",
    "# persistance_norm = wind_sum_1.fit_transform(persistance)\n",
    "\n",
    "# wind_speed_group_1_norm = wind_speed_group1.fit_transform(wind_speed_group_1_dropna)\n",
    "# wind_speed_group_2_norm = wind_speed_group2.fit_transform(wind_speed_group_2_dropna)\n",
    "\n",
    "# y = wind_sum_1.transform(wind_sum_target)[2:-lost]"
   ]
  },
  {
   "cell_type": "code",
   "execution_count": 90,
   "metadata": {},
   "outputs": [],
   "source": [
    "all_things = [train_wind_sum_from_0_frame_5_norm,test_wind_sum_from_0_frame_5_norm,holdout_wind_sum_from_0_frame_5_norm,\n",
    " train_wind_sum_lag_29_frame_3_norm,test_wind_sum_lag_29_frame_3_norm,holdout_wind_sum_from_0_frame_5_norm,\n",
    " train_wind_sum_lag_379_frame_3_norm,test_wind_sum_lag_379_frame_3_norm ,holdout_wind_sum_lag_379_frame_3_norm,\n",
    " train_wind_speed_group_1_norm,test_wind_speed_group_1_norm ,holdout_wind_speed_group_1_norm,\n",
    " train_wind_speed_group_2_norm,test_wind_speed_group_2_norm ,holdout_wind_speed_group_2_norm,\n",
    "]\n",
    "all_pad_size =[ i.reshape((*i.shape),1) for i in all_things]\n",
    "\n",
    "train_feature_input = [all_pad_size[i] for i in range(0,len(all_pad_size),3)]\n",
    "\n",
    "test_feature_input = [all_pad_size[i] for i in range(1,len(all_pad_size),3)]\n",
    "\n",
    "holdout_feature_input = [all_pad_size[i] for i in range(2,len(all_pad_size),3)]\n"
   ]
  },
  {
   "cell_type": "code",
   "execution_count": null,
   "metadata": {},
   "outputs": [],
   "source": []
  },
  {
   "cell_type": "code",
   "execution_count": null,
   "metadata": {},
   "outputs": [],
   "source": []
  },
  {
   "cell_type": "code",
   "execution_count": 91,
   "metadata": {},
   "outputs": [],
   "source": [
    "def LSTM_feature_recognizer(name,shape,dropout,recurrent_dropout,lr):\n",
    "    sequence_input = Input(shape=(shape[1],shape[2],), name=name)\n",
    "    \n",
    "    sequence_out = (LSTM(int(shape[2]), input_shape=(shape[1],shape[2]),dropout=dropout,recurrent_dropout=recurrent_dropout,kernel_regularizer=regularizers.l2(1e-6),return_sequences=True))(sequence_input)\n",
    "    sequence_out = (LSTM(int(shape[2]/2+1), dropout=dropout,recurrent_dropout=recurrent_dropout,kernel_regularizer=regularizers.l2(1e-6)))(sequence_out)\n",
    "    \n",
    "    preds = Dense(1,activation=\"tanh\")(sequence_out)\n",
    "    \n",
    "    model = Model(inputs=sequence_input,outputs=preds)\n",
    "    optimizer = Adam(lr)\n",
    "    model.compile(loss=\"mean_squared_error\",optimizer=optimizer)\n",
    "    \n",
    "    return model"
   ]
  },
  {
   "cell_type": "code",
   "execution_count": null,
   "metadata": {},
   "outputs": [],
   "source": []
  },
  {
   "cell_type": "code",
   "execution_count": 92,
   "metadata": {},
   "outputs": [],
   "source": [
    "def backbone_network(models,shapes,persistant_shape,dropout,recurrent_dropout,lr):\n",
    "    shapes = [i.shape for i in shapes]\n",
    "    features_input_1 = Input(shape=(shapes[0][1],shapes[0][2],), name=\"features_input1\")\n",
    "    features_input_2 = Input(shape=(shapes[1][1],shapes[1][2],), name=\"features_input2\")\n",
    "    features_input_3 = Input(shape=(shapes[2][1],shapes[2][2],), name=\"features_input3\")\n",
    "    features_input_4 = Input(shape=(shapes[3][1],shapes[3][2],), name=\"features_input4\")\n",
    "    features_input_5 = Input(shape=(shapes[4][1],shapes[4][2],), name=\"features_input5\")\n",
    "    features_inputs = [features_input_1,features_input_2,features_input_3,features_input_4,features_input_5]\n",
    "    persistant_input = Input(shape=(persistant_shape,),name=\"persistant_input\")\n",
    "    \n",
    "    result = []\n",
    "    for i in range(len(models)):\n",
    "        result.append(models[i](features_inputs[i]))\n",
    "    x1 = tf.concat(result,axis=1)\n",
    "    x2 = Dense(6,activation=\"tanh\")(x1)\n",
    "    x = Concatenate()([persistant_input,x2])\n",
    "    x = Dense(4,activation=\"tanh\")(x)\n",
    "    preds = Dense(1,activation=\"tanh\")(x)\n",
    "    \n",
    "    \n",
    "    model = Model(inputs=[features_input_1,features_input_2,features_input_3,features_input_4,features_input_5,persistant_input],outputs=preds)\n",
    "    optimizer = Adam(lr)\n",
    "    model.compile(loss=\"mean_squared_error\",optimizer=optimizer)\n",
    "    \n",
    "    return model\n",
    "    \n",
    "    "
   ]
  },
  {
   "cell_type": "code",
   "execution_count": 93,
   "metadata": {},
   "outputs": [
    {
     "data": {
      "text/plain": [
       "5"
      ]
     },
     "execution_count": 93,
     "metadata": {},
     "output_type": "execute_result"
    }
   ],
   "source": [
    "len(train_feature_input)"
   ]
  },
  {
   "cell_type": "code",
   "execution_count": 94,
   "metadata": {},
   "outputs": [],
   "source": [
    "spatial_dropout = 0.1\n",
    "dropout = 0.1\n",
    "recurrent_dropout = 0.1\n",
    "learning_rate = 3e-1\n",
    "\n",
    "#create our first model\n",
    "model_list = []\n",
    "for i in range(0,len(train_feature_input)):\n",
    "    model_list.append(LSTM_feature_recognizer(\"input\",train_feature_input[i].shape,dropout, recurrent_dropout, learning_rate))"
   ]
  },
  {
   "cell_type": "code",
   "execution_count": 95,
   "metadata": {},
   "outputs": [
    {
     "name": "stdout",
     "output_type": "stream",
     "text": [
      "Model: \"model\"\n",
      "_________________________________________________________________\n",
      "Layer (type)                 Output Shape              Param #   \n",
      "=================================================================\n",
      "input (InputLayer)           [(None, 5, 1)]            0         \n",
      "_________________________________________________________________\n",
      "lstm (LSTM)                  (None, 5, 1)              12        \n",
      "_________________________________________________________________\n",
      "lstm_1 (LSTM)                (None, 1)                 12        \n",
      "_________________________________________________________________\n",
      "dense (Dense)                (None, 1)                 2         \n",
      "=================================================================\n",
      "Total params: 26\n",
      "Trainable params: 26\n",
      "Non-trainable params: 0\n",
      "_________________________________________________________________\n"
     ]
    }
   ],
   "source": [
    "model_list[0].summary()"
   ]
  },
  {
   "cell_type": "code",
   "execution_count": 96,
   "metadata": {},
   "outputs": [],
   "source": [
    "learning_rate_2 = 9e-2"
   ]
  },
  {
   "cell_type": "code",
   "execution_count": 97,
   "metadata": {},
   "outputs": [],
   "source": [
    "model = backbone_network(model_list,train_feature_input,train_persistance_norm.shape[1],dropout,recurrent_dropout,learning_rate_2)"
   ]
  },
  {
   "cell_type": "code",
   "execution_count": null,
   "metadata": {},
   "outputs": [],
   "source": []
  },
  {
   "cell_type": "code",
   "execution_count": 98,
   "metadata": {},
   "outputs": [],
   "source": [
    "checkpoint_filepath = \"D:\\AI4ImpactProject2\\weights.best.hdf5\""
   ]
  },
  {
   "cell_type": "code",
   "execution_count": null,
   "metadata": {},
   "outputs": [],
   "source": []
  },
  {
   "cell_type": "code",
   "execution_count": null,
   "metadata": {},
   "outputs": [
    {
     "name": "stderr",
     "output_type": "stream",
     "text": [
      "WARNING: Logging before flag parsing goes to stderr.\n",
      "W0720 17:40:49.627151 12956 deprecation.py:323] From C:\\miniconda\\envs\\tensorflow\\lib\\site-packages\\tensorflow\\python\\ops\\math_grad.py:1250: add_dispatch_support.<locals>.wrapper (from tensorflow.python.ops.array_ops) is deprecated and will be removed in a future version.\n",
      "Instructions for updating:\n",
      "Use tf.where in 2.0, which has the same broadcast rule as np.where\n"
     ]
    }
   ],
   "source": [
    "model_checkpoint_callback_no_diff = tf.keras.callbacks.ModelCheckpoint(\n",
    "    filepath=checkpoint_filepath,\n",
    "    save_weights_only=True,\n",
    "    monitor='val_acc',\n",
    "    mode='max',\n",
    "    save_best_only=True)\n",
    "history1 = model.fit([*train_feature_input,train_persistance_norm], train_y,epochs = 10, batch_size = 1000, verbose = 1 ,callbacks=[model_checkpoint_callback_no_diff])"
   ]
  },
  {
   "cell_type": "code",
   "execution_count": null,
   "metadata": {},
   "outputs": [],
   "source": [
    "test_y_hat = mode1.predict([*test_feature_input,test_persistance_norm])\n",
    "test_y_hat_inversed = y_scaler_sc.inverse_transform(test_y_hat)"
   ]
  },
  {
   "cell_type": "code",
   "execution_count": null,
   "metadata": {},
   "outputs": [],
   "source": [
    "print(\"test diff Deep learning\")\n",
    "print(np.sqrt(mean_squared_error(test_y_hat_inversed,test_y)))\n",
    "print(mean_absolute_error(test_y_hat_inversed,test_y))"
   ]
  },
  {
   "cell_type": "code",
   "execution_count": null,
   "metadata": {},
   "outputs": [],
   "source": [
    "p = get_lag(wind_mean_T_plus_18,1,18)[2:-lost][split_index:]\n",
    "print(\"persistance\")\n",
    "print(np.sqrt(mean_squared_error(p,test_y)))\n",
    "print(mean_absolute_error(p,test_y))"
   ]
  },
  {
   "cell_type": "code",
   "execution_count": null,
   "metadata": {},
   "outputs": [],
   "source": []
  },
  {
   "cell_type": "code",
   "execution_count": null,
   "metadata": {},
   "outputs": [],
   "source": [
    "holdout_y_hat = mode1.predict([*test_feature_input,test_persistance_norm])\n",
    "holdout_y_hat_inversed = y_scaler_sc.inverse_transform(test_y_hat)"
   ]
  },
  {
   "cell_type": "code",
   "execution_count": null,
   "metadata": {},
   "outputs": [],
   "source": [
    "print(\"holdout diff Deep learning\")\n",
    "print(np.sqrt(mean_squared_error(holdout_y_hat_inversed,test_y)))\n",
    "print(mean_absolute_error(holdout_y_hat_inversed,test_y))"
   ]
  },
  {
   "cell_type": "code",
   "execution_count": null,
   "metadata": {},
   "outputs": [],
   "source": []
  }
 ],
 "metadata": {
  "kernelspec": {
   "display_name": "Python 3",
   "language": "python",
   "name": "python3"
  },
  "language_info": {
   "codemirror_mode": {
    "name": "ipython",
    "version": 3
   },
   "file_extension": ".py",
   "mimetype": "text/x-python",
   "name": "python",
   "nbconvert_exporter": "python",
   "pygments_lexer": "ipython3",
   "version": "3.6.10"
  }
 },
 "nbformat": 4,
 "nbformat_minor": 4
}
